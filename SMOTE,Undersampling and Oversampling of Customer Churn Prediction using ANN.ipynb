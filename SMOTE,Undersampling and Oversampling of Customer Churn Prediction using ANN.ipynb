{
 "cells": [
  {
   "cell_type": "code",
   "execution_count": 1,
   "id": "4bd6eafc",
   "metadata": {},
   "outputs": [],
   "source": [
    "import pandas as pd\n",
    "from matplotlib import pyplot as plt\n",
    "import numpy as np\n",
    "%matplotlib inline"
   ]
  },
  {
   "cell_type": "code",
   "execution_count": 2,
   "id": "29d8a1ce",
   "metadata": {},
   "outputs": [],
   "source": [
    "import warnings\n",
    "warnings.filterwarnings(\"ignore\")"
   ]
  },
  {
   "cell_type": "code",
   "execution_count": 3,
   "id": "7e5ee9db",
   "metadata": {},
   "outputs": [
    {
     "data": {
      "text/html": [
       "<div>\n",
       "<style scoped>\n",
       "    .dataframe tbody tr th:only-of-type {\n",
       "        vertical-align: middle;\n",
       "    }\n",
       "\n",
       "    .dataframe tbody tr th {\n",
       "        vertical-align: top;\n",
       "    }\n",
       "\n",
       "    .dataframe thead th {\n",
       "        text-align: right;\n",
       "    }\n",
       "</style>\n",
       "<table border=\"1\" class=\"dataframe\">\n",
       "  <thead>\n",
       "    <tr style=\"text-align: right;\">\n",
       "      <th></th>\n",
       "      <th>customerID</th>\n",
       "      <th>gender</th>\n",
       "      <th>SeniorCitizen</th>\n",
       "      <th>Partner</th>\n",
       "      <th>Dependents</th>\n",
       "      <th>tenure</th>\n",
       "      <th>PhoneService</th>\n",
       "      <th>MultipleLines</th>\n",
       "      <th>InternetService</th>\n",
       "      <th>OnlineSecurity</th>\n",
       "      <th>...</th>\n",
       "      <th>DeviceProtection</th>\n",
       "      <th>TechSupport</th>\n",
       "      <th>StreamingTV</th>\n",
       "      <th>StreamingMovies</th>\n",
       "      <th>Contract</th>\n",
       "      <th>PaperlessBilling</th>\n",
       "      <th>PaymentMethod</th>\n",
       "      <th>MonthlyCharges</th>\n",
       "      <th>TotalCharges</th>\n",
       "      <th>Churn</th>\n",
       "    </tr>\n",
       "  </thead>\n",
       "  <tbody>\n",
       "    <tr>\n",
       "      <th>3633</th>\n",
       "      <td>3878-AVSOQ</td>\n",
       "      <td>Female</td>\n",
       "      <td>1</td>\n",
       "      <td>No</td>\n",
       "      <td>No</td>\n",
       "      <td>1</td>\n",
       "      <td>Yes</td>\n",
       "      <td>No</td>\n",
       "      <td>Fiber optic</td>\n",
       "      <td>No</td>\n",
       "      <td>...</td>\n",
       "      <td>No</td>\n",
       "      <td>No</td>\n",
       "      <td>No</td>\n",
       "      <td>No</td>\n",
       "      <td>Month-to-month</td>\n",
       "      <td>Yes</td>\n",
       "      <td>Electronic check</td>\n",
       "      <td>71.25</td>\n",
       "      <td>71.25</td>\n",
       "      <td>No</td>\n",
       "    </tr>\n",
       "    <tr>\n",
       "      <th>5951</th>\n",
       "      <td>5816-QVHRX</td>\n",
       "      <td>Female</td>\n",
       "      <td>0</td>\n",
       "      <td>No</td>\n",
       "      <td>No</td>\n",
       "      <td>37</td>\n",
       "      <td>Yes</td>\n",
       "      <td>Yes</td>\n",
       "      <td>Fiber optic</td>\n",
       "      <td>No</td>\n",
       "      <td>...</td>\n",
       "      <td>No</td>\n",
       "      <td>Yes</td>\n",
       "      <td>Yes</td>\n",
       "      <td>Yes</td>\n",
       "      <td>Month-to-month</td>\n",
       "      <td>No</td>\n",
       "      <td>Credit card (automatic)</td>\n",
       "      <td>100.30</td>\n",
       "      <td>3541.4</td>\n",
       "      <td>No</td>\n",
       "    </tr>\n",
       "    <tr>\n",
       "      <th>5358</th>\n",
       "      <td>6082-GLJIX</td>\n",
       "      <td>Male</td>\n",
       "      <td>0</td>\n",
       "      <td>No</td>\n",
       "      <td>No</td>\n",
       "      <td>18</td>\n",
       "      <td>Yes</td>\n",
       "      <td>No</td>\n",
       "      <td>No</td>\n",
       "      <td>No internet service</td>\n",
       "      <td>...</td>\n",
       "      <td>No internet service</td>\n",
       "      <td>No internet service</td>\n",
       "      <td>No internet service</td>\n",
       "      <td>No internet service</td>\n",
       "      <td>Month-to-month</td>\n",
       "      <td>No</td>\n",
       "      <td>Mailed check</td>\n",
       "      <td>19.25</td>\n",
       "      <td>331.35</td>\n",
       "      <td>No</td>\n",
       "    </tr>\n",
       "    <tr>\n",
       "      <th>1194</th>\n",
       "      <td>8967-SZQAS</td>\n",
       "      <td>Female</td>\n",
       "      <td>0</td>\n",
       "      <td>No</td>\n",
       "      <td>No</td>\n",
       "      <td>14</td>\n",
       "      <td>Yes</td>\n",
       "      <td>No</td>\n",
       "      <td>DSL</td>\n",
       "      <td>No</td>\n",
       "      <td>...</td>\n",
       "      <td>No</td>\n",
       "      <td>No</td>\n",
       "      <td>No</td>\n",
       "      <td>No</td>\n",
       "      <td>Month-to-month</td>\n",
       "      <td>No</td>\n",
       "      <td>Electronic check</td>\n",
       "      <td>50.45</td>\n",
       "      <td>765.45</td>\n",
       "      <td>No</td>\n",
       "    </tr>\n",
       "    <tr>\n",
       "      <th>3063</th>\n",
       "      <td>1666-JXLKU</td>\n",
       "      <td>Female</td>\n",
       "      <td>0</td>\n",
       "      <td>No</td>\n",
       "      <td>No</td>\n",
       "      <td>37</td>\n",
       "      <td>Yes</td>\n",
       "      <td>Yes</td>\n",
       "      <td>Fiber optic</td>\n",
       "      <td>No</td>\n",
       "      <td>...</td>\n",
       "      <td>Yes</td>\n",
       "      <td>No</td>\n",
       "      <td>Yes</td>\n",
       "      <td>Yes</td>\n",
       "      <td>Month-to-month</td>\n",
       "      <td>Yes</td>\n",
       "      <td>Electronic check</td>\n",
       "      <td>100.05</td>\n",
       "      <td>3810.55</td>\n",
       "      <td>No</td>\n",
       "    </tr>\n",
       "  </tbody>\n",
       "</table>\n",
       "<p>5 rows × 21 columns</p>\n",
       "</div>"
      ],
      "text/plain": [
       "      customerID  gender  SeniorCitizen Partner Dependents  tenure  \\\n",
       "3633  3878-AVSOQ  Female              1      No         No       1   \n",
       "5951  5816-QVHRX  Female              0      No         No      37   \n",
       "5358  6082-GLJIX    Male              0      No         No      18   \n",
       "1194  8967-SZQAS  Female              0      No         No      14   \n",
       "3063  1666-JXLKU  Female              0      No         No      37   \n",
       "\n",
       "     PhoneService MultipleLines InternetService       OnlineSecurity  ...  \\\n",
       "3633          Yes            No     Fiber optic                   No  ...   \n",
       "5951          Yes           Yes     Fiber optic                   No  ...   \n",
       "5358          Yes            No              No  No internet service  ...   \n",
       "1194          Yes            No             DSL                   No  ...   \n",
       "3063          Yes           Yes     Fiber optic                   No  ...   \n",
       "\n",
       "         DeviceProtection          TechSupport          StreamingTV  \\\n",
       "3633                   No                   No                   No   \n",
       "5951                   No                  Yes                  Yes   \n",
       "5358  No internet service  No internet service  No internet service   \n",
       "1194                   No                   No                   No   \n",
       "3063                  Yes                   No                  Yes   \n",
       "\n",
       "          StreamingMovies        Contract PaperlessBilling  \\\n",
       "3633                   No  Month-to-month              Yes   \n",
       "5951                  Yes  Month-to-month               No   \n",
       "5358  No internet service  Month-to-month               No   \n",
       "1194                   No  Month-to-month               No   \n",
       "3063                  Yes  Month-to-month              Yes   \n",
       "\n",
       "                PaymentMethod MonthlyCharges  TotalCharges Churn  \n",
       "3633         Electronic check          71.25         71.25    No  \n",
       "5951  Credit card (automatic)         100.30        3541.4    No  \n",
       "5358             Mailed check          19.25        331.35    No  \n",
       "1194         Electronic check          50.45        765.45    No  \n",
       "3063         Electronic check         100.05       3810.55    No  \n",
       "\n",
       "[5 rows x 21 columns]"
      ]
     },
     "execution_count": 3,
     "metadata": {},
     "output_type": "execute_result"
    }
   ],
   "source": [
    "df = pd.read_csv(\"customer_churn.csv\")\n",
    "df.sample(5)"
   ]
  },
  {
   "cell_type": "code",
   "execution_count": 4,
   "id": "fc0b60db",
   "metadata": {},
   "outputs": [
    {
     "data": {
      "text/plain": [
       "No     5174\n",
       "Yes    1869\n",
       "Name: Churn, dtype: int64"
      ]
     },
     "execution_count": 4,
     "metadata": {},
     "output_type": "execute_result"
    }
   ],
   "source": [
    "df.Churn.value_counts()"
   ]
  },
  {
   "cell_type": "code",
   "execution_count": 5,
   "id": "85da7636",
   "metadata": {},
   "outputs": [],
   "source": [
    "df=df.drop(\"customerID\",axis=1)"
   ]
  },
  {
   "cell_type": "code",
   "execution_count": 6,
   "id": "d6fd36eb",
   "metadata": {},
   "outputs": [
    {
     "data": {
      "text/plain": [
       "gender               object\n",
       "SeniorCitizen         int64\n",
       "Partner              object\n",
       "Dependents           object\n",
       "tenure                int64\n",
       "PhoneService         object\n",
       "MultipleLines        object\n",
       "InternetService      object\n",
       "OnlineSecurity       object\n",
       "OnlineBackup         object\n",
       "DeviceProtection     object\n",
       "TechSupport          object\n",
       "StreamingTV          object\n",
       "StreamingMovies      object\n",
       "Contract             object\n",
       "PaperlessBilling     object\n",
       "PaymentMethod        object\n",
       "MonthlyCharges      float64\n",
       "TotalCharges         object\n",
       "Churn                object\n",
       "dtype: object"
      ]
     },
     "execution_count": 6,
     "metadata": {},
     "output_type": "execute_result"
    }
   ],
   "source": [
    "df.dtypes"
   ]
  },
  {
   "cell_type": "code",
   "execution_count": 7,
   "id": "1d3f652e",
   "metadata": {},
   "outputs": [
    {
     "data": {
      "text/plain": [
       "(7043, 20)"
      ]
     },
     "execution_count": 7,
     "metadata": {},
     "output_type": "execute_result"
    }
   ],
   "source": [
    "df.shape"
   ]
  },
  {
   "cell_type": "code",
   "execution_count": 8,
   "id": "6460a366",
   "metadata": {},
   "outputs": [],
   "source": [
    "df=df[df[\"TotalCharges\"]!=\" \"]"
   ]
  },
  {
   "cell_type": "code",
   "execution_count": 9,
   "id": "a4b08205",
   "metadata": {},
   "outputs": [
    {
     "data": {
      "text/plain": [
       "(7032, 20)"
      ]
     },
     "execution_count": 9,
     "metadata": {},
     "output_type": "execute_result"
    }
   ],
   "source": [
    "df.shape"
   ]
  },
  {
   "cell_type": "code",
   "execution_count": 10,
   "id": "b4cd8f7c",
   "metadata": {},
   "outputs": [],
   "source": [
    "df.TotalCharges=pd.to_numeric(df.TotalCharges)"
   ]
  },
  {
   "cell_type": "code",
   "execution_count": 11,
   "id": "4959fd83",
   "metadata": {},
   "outputs": [
    {
     "data": {
      "text/plain": [
       "gender               object\n",
       "SeniorCitizen         int64\n",
       "Partner              object\n",
       "Dependents           object\n",
       "tenure                int64\n",
       "PhoneService         object\n",
       "MultipleLines        object\n",
       "InternetService      object\n",
       "OnlineSecurity       object\n",
       "OnlineBackup         object\n",
       "DeviceProtection     object\n",
       "TechSupport          object\n",
       "StreamingTV          object\n",
       "StreamingMovies      object\n",
       "Contract             object\n",
       "PaperlessBilling     object\n",
       "PaymentMethod        object\n",
       "MonthlyCharges      float64\n",
       "TotalCharges        float64\n",
       "Churn                object\n",
       "dtype: object"
      ]
     },
     "execution_count": 11,
     "metadata": {},
     "output_type": "execute_result"
    }
   ],
   "source": [
    "df.dtypes"
   ]
  },
  {
   "cell_type": "code",
   "execution_count": 12,
   "id": "61f9b7bb",
   "metadata": {},
   "outputs": [],
   "source": [
    "def types():\n",
    "    for c in df:\n",
    "        if(df[c].dtypes==\"object\"):\n",
    "            print(c,\":\",df[c].unique())"
   ]
  },
  {
   "cell_type": "code",
   "execution_count": 13,
   "id": "e9ace6b9",
   "metadata": {},
   "outputs": [
    {
     "name": "stdout",
     "output_type": "stream",
     "text": [
      "gender : ['Female' 'Male']\n",
      "Partner : ['Yes' 'No']\n",
      "Dependents : ['No' 'Yes']\n",
      "PhoneService : ['No' 'Yes']\n",
      "MultipleLines : ['No phone service' 'No' 'Yes']\n",
      "InternetService : ['DSL' 'Fiber optic' 'No']\n",
      "OnlineSecurity : ['No' 'Yes' 'No internet service']\n",
      "OnlineBackup : ['Yes' 'No' 'No internet service']\n",
      "DeviceProtection : ['No' 'Yes' 'No internet service']\n",
      "TechSupport : ['No' 'Yes' 'No internet service']\n",
      "StreamingTV : ['No' 'Yes' 'No internet service']\n",
      "StreamingMovies : ['No' 'Yes' 'No internet service']\n",
      "Contract : ['Month-to-month' 'One year' 'Two year']\n",
      "PaperlessBilling : ['Yes' 'No']\n",
      "PaymentMethod : ['Electronic check' 'Mailed check' 'Bank transfer (automatic)'\n",
      " 'Credit card (automatic)']\n",
      "Churn : ['No' 'Yes']\n"
     ]
    }
   ],
   "source": [
    "types()"
   ]
  },
  {
   "cell_type": "code",
   "execution_count": 14,
   "id": "084cdd59",
   "metadata": {},
   "outputs": [],
   "source": [
    "df.replace(\"No phone service\",\"No\",inplace=True)"
   ]
  },
  {
   "cell_type": "code",
   "execution_count": 15,
   "id": "f44345df",
   "metadata": {},
   "outputs": [
    {
     "name": "stdout",
     "output_type": "stream",
     "text": [
      "gender : ['Female' 'Male']\n",
      "Partner : ['Yes' 'No']\n",
      "Dependents : ['No' 'Yes']\n",
      "PhoneService : ['No' 'Yes']\n",
      "MultipleLines : ['No' 'Yes']\n",
      "InternetService : ['DSL' 'Fiber optic' 'No']\n",
      "OnlineSecurity : ['No' 'Yes' 'No internet service']\n",
      "OnlineBackup : ['Yes' 'No' 'No internet service']\n",
      "DeviceProtection : ['No' 'Yes' 'No internet service']\n",
      "TechSupport : ['No' 'Yes' 'No internet service']\n",
      "StreamingTV : ['No' 'Yes' 'No internet service']\n",
      "StreamingMovies : ['No' 'Yes' 'No internet service']\n",
      "Contract : ['Month-to-month' 'One year' 'Two year']\n",
      "PaperlessBilling : ['Yes' 'No']\n",
      "PaymentMethod : ['Electronic check' 'Mailed check' 'Bank transfer (automatic)'\n",
      " 'Credit card (automatic)']\n",
      "Churn : ['No' 'Yes']\n"
     ]
    }
   ],
   "source": [
    "types()"
   ]
  },
  {
   "cell_type": "code",
   "execution_count": 16,
   "id": "d1a0f35c",
   "metadata": {},
   "outputs": [],
   "source": [
    "df.replace(\"No internet service\",\"No\",inplace=True)"
   ]
  },
  {
   "cell_type": "code",
   "execution_count": 17,
   "id": "228bb812",
   "metadata": {},
   "outputs": [
    {
     "name": "stdout",
     "output_type": "stream",
     "text": [
      "gender : ['Female' 'Male']\n",
      "Partner : ['Yes' 'No']\n",
      "Dependents : ['No' 'Yes']\n",
      "PhoneService : ['No' 'Yes']\n",
      "MultipleLines : ['No' 'Yes']\n",
      "InternetService : ['DSL' 'Fiber optic' 'No']\n",
      "OnlineSecurity : ['No' 'Yes']\n",
      "OnlineBackup : ['Yes' 'No']\n",
      "DeviceProtection : ['No' 'Yes']\n",
      "TechSupport : ['No' 'Yes']\n",
      "StreamingTV : ['No' 'Yes']\n",
      "StreamingMovies : ['No' 'Yes']\n",
      "Contract : ['Month-to-month' 'One year' 'Two year']\n",
      "PaperlessBilling : ['Yes' 'No']\n",
      "PaymentMethod : ['Electronic check' 'Mailed check' 'Bank transfer (automatic)'\n",
      " 'Credit card (automatic)']\n",
      "Churn : ['No' 'Yes']\n"
     ]
    }
   ],
   "source": [
    "types()"
   ]
  },
  {
   "cell_type": "code",
   "execution_count": 18,
   "id": "24c0f00b",
   "metadata": {},
   "outputs": [],
   "source": [
    "for c in df:\n",
    "    if(len(df[c].unique())==2):\n",
    "        df[c].replace({\"Yes\":1,\"No\":0},inplace=True)\n",
    "        df[c].replace({\"Male\":0,\"Female\":1},inplace=True)"
   ]
  },
  {
   "cell_type": "code",
   "execution_count": 19,
   "id": "61a5e89a",
   "metadata": {},
   "outputs": [
    {
     "name": "stdout",
     "output_type": "stream",
     "text": [
      "InternetService : ['DSL' 'Fiber optic' 'No']\n",
      "Contract : ['Month-to-month' 'One year' 'Two year']\n",
      "PaymentMethod : ['Electronic check' 'Mailed check' 'Bank transfer (automatic)'\n",
      " 'Credit card (automatic)']\n"
     ]
    }
   ],
   "source": [
    "types()"
   ]
  },
  {
   "cell_type": "code",
   "execution_count": 20,
   "id": "ba3c8406",
   "metadata": {},
   "outputs": [
    {
     "name": "stdout",
     "output_type": "stream",
     "text": [
      "gender : [1 0]\n",
      "SeniorCitizen : [0 1]\n",
      "Partner : [1 0]\n",
      "Dependents : [0 1]\n",
      "tenure : [ 1 34  2 45  8 22 10 28 62 13 16 58 49 25 69 52 71 21 12 30 47 72 17 27\n",
      "  5 46 11 70 63 43 15 60 18 66  9  3 31 50 64 56  7 42 35 48 29 65 38 68\n",
      " 32 55 37 36 41  6  4 33 67 23 57 61 14 20 53 40 59 24 44 19 54 51 26 39]\n",
      "PhoneService : [0 1]\n",
      "MultipleLines : [0 1]\n",
      "InternetService : ['DSL' 'Fiber optic' 'No']\n",
      "OnlineSecurity : [0 1]\n",
      "OnlineBackup : [1 0]\n",
      "DeviceProtection : [0 1]\n",
      "TechSupport : [0 1]\n",
      "StreamingTV : [0 1]\n",
      "StreamingMovies : [0 1]\n",
      "Contract : ['Month-to-month' 'One year' 'Two year']\n",
      "PaperlessBilling : [1 0]\n",
      "PaymentMethod : ['Electronic check' 'Mailed check' 'Bank transfer (automatic)'\n",
      " 'Credit card (automatic)']\n",
      "MonthlyCharges : [29.85 56.95 53.85 ... 63.1  44.2  78.7 ]\n",
      "TotalCharges : [  29.85 1889.5   108.15 ...  346.45  306.6  6844.5 ]\n",
      "Churn : [0 1]\n"
     ]
    }
   ],
   "source": [
    "for c in df:\n",
    "    print(c,\":\",df[c].unique())"
   ]
  },
  {
   "cell_type": "code",
   "execution_count": 21,
   "id": "48785e0b",
   "metadata": {},
   "outputs": [
    {
     "data": {
      "text/plain": [
       "Index(['gender', 'SeniorCitizen', 'Partner', 'Dependents', 'tenure',\n",
       "       'PhoneService', 'MultipleLines', 'OnlineSecurity', 'OnlineBackup',\n",
       "       'DeviceProtection', 'TechSupport', 'StreamingTV', 'StreamingMovies',\n",
       "       'PaperlessBilling', 'MonthlyCharges', 'TotalCharges', 'Churn',\n",
       "       'InternetService_DSL', 'InternetService_Fiber optic',\n",
       "       'InternetService_No', 'Contract_Month-to-month', 'Contract_One year',\n",
       "       'Contract_Two year', 'PaymentMethod_Bank transfer (automatic)',\n",
       "       'PaymentMethod_Credit card (automatic)',\n",
       "       'PaymentMethod_Electronic check', 'PaymentMethod_Mailed check'],\n",
       "      dtype='object')"
      ]
     },
     "execution_count": 21,
     "metadata": {},
     "output_type": "execute_result"
    }
   ],
   "source": [
    "df = pd.get_dummies(data=df, columns=['InternetService','Contract','PaymentMethod'])\n",
    "df.columns"
   ]
  },
  {
   "cell_type": "code",
   "execution_count": 22,
   "id": "b4fe4be6",
   "metadata": {},
   "outputs": [
    {
     "data": {
      "text/html": [
       "<div>\n",
       "<style scoped>\n",
       "    .dataframe tbody tr th:only-of-type {\n",
       "        vertical-align: middle;\n",
       "    }\n",
       "\n",
       "    .dataframe tbody tr th {\n",
       "        vertical-align: top;\n",
       "    }\n",
       "\n",
       "    .dataframe thead th {\n",
       "        text-align: right;\n",
       "    }\n",
       "</style>\n",
       "<table border=\"1\" class=\"dataframe\">\n",
       "  <thead>\n",
       "    <tr style=\"text-align: right;\">\n",
       "      <th></th>\n",
       "      <th>gender</th>\n",
       "      <th>SeniorCitizen</th>\n",
       "      <th>Partner</th>\n",
       "      <th>Dependents</th>\n",
       "      <th>tenure</th>\n",
       "      <th>PhoneService</th>\n",
       "      <th>MultipleLines</th>\n",
       "      <th>OnlineSecurity</th>\n",
       "      <th>OnlineBackup</th>\n",
       "      <th>DeviceProtection</th>\n",
       "      <th>...</th>\n",
       "      <th>InternetService_DSL</th>\n",
       "      <th>InternetService_Fiber optic</th>\n",
       "      <th>InternetService_No</th>\n",
       "      <th>Contract_Month-to-month</th>\n",
       "      <th>Contract_One year</th>\n",
       "      <th>Contract_Two year</th>\n",
       "      <th>PaymentMethod_Bank transfer (automatic)</th>\n",
       "      <th>PaymentMethod_Credit card (automatic)</th>\n",
       "      <th>PaymentMethod_Electronic check</th>\n",
       "      <th>PaymentMethod_Mailed check</th>\n",
       "    </tr>\n",
       "  </thead>\n",
       "  <tbody>\n",
       "    <tr>\n",
       "      <th>3141</th>\n",
       "      <td>0</td>\n",
       "      <td>1</td>\n",
       "      <td>0</td>\n",
       "      <td>0</td>\n",
       "      <td>2</td>\n",
       "      <td>1</td>\n",
       "      <td>0</td>\n",
       "      <td>0</td>\n",
       "      <td>1</td>\n",
       "      <td>1</td>\n",
       "      <td>...</td>\n",
       "      <td>0</td>\n",
       "      <td>1</td>\n",
       "      <td>0</td>\n",
       "      <td>1</td>\n",
       "      <td>0</td>\n",
       "      <td>0</td>\n",
       "      <td>0</td>\n",
       "      <td>1</td>\n",
       "      <td>0</td>\n",
       "      <td>0</td>\n",
       "    </tr>\n",
       "    <tr>\n",
       "      <th>1843</th>\n",
       "      <td>1</td>\n",
       "      <td>0</td>\n",
       "      <td>1</td>\n",
       "      <td>1</td>\n",
       "      <td>71</td>\n",
       "      <td>1</td>\n",
       "      <td>0</td>\n",
       "      <td>0</td>\n",
       "      <td>0</td>\n",
       "      <td>0</td>\n",
       "      <td>...</td>\n",
       "      <td>0</td>\n",
       "      <td>0</td>\n",
       "      <td>1</td>\n",
       "      <td>0</td>\n",
       "      <td>0</td>\n",
       "      <td>1</td>\n",
       "      <td>0</td>\n",
       "      <td>1</td>\n",
       "      <td>0</td>\n",
       "      <td>0</td>\n",
       "    </tr>\n",
       "    <tr>\n",
       "      <th>3040</th>\n",
       "      <td>0</td>\n",
       "      <td>0</td>\n",
       "      <td>1</td>\n",
       "      <td>0</td>\n",
       "      <td>71</td>\n",
       "      <td>1</td>\n",
       "      <td>1</td>\n",
       "      <td>0</td>\n",
       "      <td>1</td>\n",
       "      <td>1</td>\n",
       "      <td>...</td>\n",
       "      <td>0</td>\n",
       "      <td>1</td>\n",
       "      <td>0</td>\n",
       "      <td>0</td>\n",
       "      <td>0</td>\n",
       "      <td>1</td>\n",
       "      <td>0</td>\n",
       "      <td>1</td>\n",
       "      <td>0</td>\n",
       "      <td>0</td>\n",
       "    </tr>\n",
       "    <tr>\n",
       "      <th>2039</th>\n",
       "      <td>0</td>\n",
       "      <td>0</td>\n",
       "      <td>0</td>\n",
       "      <td>0</td>\n",
       "      <td>22</td>\n",
       "      <td>1</td>\n",
       "      <td>1</td>\n",
       "      <td>0</td>\n",
       "      <td>1</td>\n",
       "      <td>0</td>\n",
       "      <td>...</td>\n",
       "      <td>0</td>\n",
       "      <td>1</td>\n",
       "      <td>0</td>\n",
       "      <td>1</td>\n",
       "      <td>0</td>\n",
       "      <td>0</td>\n",
       "      <td>0</td>\n",
       "      <td>0</td>\n",
       "      <td>1</td>\n",
       "      <td>0</td>\n",
       "    </tr>\n",
       "    <tr>\n",
       "      <th>4656</th>\n",
       "      <td>1</td>\n",
       "      <td>0</td>\n",
       "      <td>1</td>\n",
       "      <td>1</td>\n",
       "      <td>22</td>\n",
       "      <td>1</td>\n",
       "      <td>1</td>\n",
       "      <td>0</td>\n",
       "      <td>0</td>\n",
       "      <td>0</td>\n",
       "      <td>...</td>\n",
       "      <td>0</td>\n",
       "      <td>1</td>\n",
       "      <td>0</td>\n",
       "      <td>1</td>\n",
       "      <td>0</td>\n",
       "      <td>0</td>\n",
       "      <td>1</td>\n",
       "      <td>0</td>\n",
       "      <td>0</td>\n",
       "      <td>0</td>\n",
       "    </tr>\n",
       "  </tbody>\n",
       "</table>\n",
       "<p>5 rows × 27 columns</p>\n",
       "</div>"
      ],
      "text/plain": [
       "      gender  SeniorCitizen  Partner  Dependents  tenure  PhoneService  \\\n",
       "3141       0              1        0           0       2             1   \n",
       "1843       1              0        1           1      71             1   \n",
       "3040       0              0        1           0      71             1   \n",
       "2039       0              0        0           0      22             1   \n",
       "4656       1              0        1           1      22             1   \n",
       "\n",
       "      MultipleLines  OnlineSecurity  OnlineBackup  DeviceProtection  ...  \\\n",
       "3141              0               0             1                 1  ...   \n",
       "1843              0               0             0                 0  ...   \n",
       "3040              1               0             1                 1  ...   \n",
       "2039              1               0             1                 0  ...   \n",
       "4656              1               0             0                 0  ...   \n",
       "\n",
       "      InternetService_DSL  InternetService_Fiber optic  InternetService_No  \\\n",
       "3141                    0                            1                   0   \n",
       "1843                    0                            0                   1   \n",
       "3040                    0                            1                   0   \n",
       "2039                    0                            1                   0   \n",
       "4656                    0                            1                   0   \n",
       "\n",
       "      Contract_Month-to-month  Contract_One year  Contract_Two year  \\\n",
       "3141                        1                  0                  0   \n",
       "1843                        0                  0                  1   \n",
       "3040                        0                  0                  1   \n",
       "2039                        1                  0                  0   \n",
       "4656                        1                  0                  0   \n",
       "\n",
       "      PaymentMethod_Bank transfer (automatic)  \\\n",
       "3141                                        0   \n",
       "1843                                        0   \n",
       "3040                                        0   \n",
       "2039                                        0   \n",
       "4656                                        1   \n",
       "\n",
       "      PaymentMethod_Credit card (automatic)  PaymentMethod_Electronic check  \\\n",
       "3141                                      1                               0   \n",
       "1843                                      1                               0   \n",
       "3040                                      1                               0   \n",
       "2039                                      0                               1   \n",
       "4656                                      0                               0   \n",
       "\n",
       "      PaymentMethod_Mailed check  \n",
       "3141                           0  \n",
       "1843                           0  \n",
       "3040                           0  \n",
       "2039                           0  \n",
       "4656                           0  \n",
       "\n",
       "[5 rows x 27 columns]"
      ]
     },
     "execution_count": 22,
     "metadata": {},
     "output_type": "execute_result"
    }
   ],
   "source": [
    "df.sample(5)"
   ]
  },
  {
   "cell_type": "code",
   "execution_count": 23,
   "id": "4593a3af",
   "metadata": {},
   "outputs": [
    {
     "data": {
      "text/plain": [
       "gender                                       int64\n",
       "SeniorCitizen                                int64\n",
       "Partner                                      int64\n",
       "Dependents                                   int64\n",
       "tenure                                       int64\n",
       "PhoneService                                 int64\n",
       "MultipleLines                                int64\n",
       "OnlineSecurity                               int64\n",
       "OnlineBackup                                 int64\n",
       "DeviceProtection                             int64\n",
       "TechSupport                                  int64\n",
       "StreamingTV                                  int64\n",
       "StreamingMovies                              int64\n",
       "PaperlessBilling                             int64\n",
       "MonthlyCharges                             float64\n",
       "TotalCharges                               float64\n",
       "Churn                                        int64\n",
       "InternetService_DSL                          uint8\n",
       "InternetService_Fiber optic                  uint8\n",
       "InternetService_No                           uint8\n",
       "Contract_Month-to-month                      uint8\n",
       "Contract_One year                            uint8\n",
       "Contract_Two year                            uint8\n",
       "PaymentMethod_Bank transfer (automatic)      uint8\n",
       "PaymentMethod_Credit card (automatic)        uint8\n",
       "PaymentMethod_Electronic check               uint8\n",
       "PaymentMethod_Mailed check                   uint8\n",
       "dtype: object"
      ]
     },
     "execution_count": 23,
     "metadata": {},
     "output_type": "execute_result"
    }
   ],
   "source": [
    "df.dtypes"
   ]
  },
  {
   "cell_type": "code",
   "execution_count": 24,
   "id": "b1c15535",
   "metadata": {},
   "outputs": [],
   "source": [
    "cols_to_scale = ['tenure','MonthlyCharges','TotalCharges']\n",
    "\n",
    "from sklearn.preprocessing import MinMaxScaler\n",
    "scaler = MinMaxScaler()\n",
    "df[cols_to_scale] = scaler.fit_transform(df[cols_to_scale])"
   ]
  },
  {
   "cell_type": "code",
   "execution_count": 25,
   "id": "b1b2ea06",
   "metadata": {},
   "outputs": [
    {
     "name": "stdout",
     "output_type": "stream",
     "text": [
      "gender : [1 0]\n",
      "SeniorCitizen : [0 1]\n",
      "Partner : [1 0]\n",
      "Dependents : [0 1]\n",
      "tenure : [0.         0.46478873 0.01408451 0.61971831 0.09859155 0.29577465\n",
      " 0.12676056 0.38028169 0.85915493 0.16901408 0.21126761 0.8028169\n",
      " 0.67605634 0.33802817 0.95774648 0.71830986 0.98591549 0.28169014\n",
      " 0.15492958 0.4084507  0.64788732 1.         0.22535211 0.36619718\n",
      " 0.05633803 0.63380282 0.14084507 0.97183099 0.87323944 0.5915493\n",
      " 0.1971831  0.83098592 0.23943662 0.91549296 0.11267606 0.02816901\n",
      " 0.42253521 0.69014085 0.88732394 0.77464789 0.08450704 0.57746479\n",
      " 0.47887324 0.66197183 0.3943662  0.90140845 0.52112676 0.94366197\n",
      " 0.43661972 0.76056338 0.50704225 0.49295775 0.56338028 0.07042254\n",
      " 0.04225352 0.45070423 0.92957746 0.30985915 0.78873239 0.84507042\n",
      " 0.18309859 0.26760563 0.73239437 0.54929577 0.81690141 0.32394366\n",
      " 0.6056338  0.25352113 0.74647887 0.70422535 0.35211268 0.53521127]\n",
      "PhoneService : [0 1]\n",
      "MultipleLines : [0 1]\n",
      "OnlineSecurity : [0 1]\n",
      "OnlineBackup : [1 0]\n",
      "DeviceProtection : [0 1]\n",
      "TechSupport : [0 1]\n",
      "StreamingTV : [0 1]\n",
      "StreamingMovies : [0 1]\n",
      "PaperlessBilling : [1 0]\n",
      "MonthlyCharges : [0.11542289 0.38507463 0.35422886 ... 0.44626866 0.25820896 0.60149254]\n",
      "TotalCharges : [0.0012751  0.21586661 0.01031041 ... 0.03780868 0.03321025 0.78764136]\n",
      "Churn : [0 1]\n",
      "InternetService_DSL : [1 0]\n",
      "InternetService_Fiber optic : [0 1]\n",
      "InternetService_No : [0 1]\n",
      "Contract_Month-to-month : [1 0]\n",
      "Contract_One year : [0 1]\n",
      "Contract_Two year : [0 1]\n",
      "PaymentMethod_Bank transfer (automatic) : [0 1]\n",
      "PaymentMethod_Credit card (automatic) : [0 1]\n",
      "PaymentMethod_Electronic check : [1 0]\n",
      "PaymentMethod_Mailed check : [0 1]\n"
     ]
    }
   ],
   "source": [
    "for c in df:\n",
    "    print(c,\":\",df[c].unique())"
   ]
  },
  {
   "cell_type": "code",
   "execution_count": 26,
   "id": "23ac1823",
   "metadata": {},
   "outputs": [],
   "source": [
    "X=df.drop(\"Churn\",axis=\"columns\")"
   ]
  },
  {
   "cell_type": "code",
   "execution_count": 27,
   "id": "3f3a1f7e",
   "metadata": {},
   "outputs": [],
   "source": [
    "y=df.Churn"
   ]
  },
  {
   "cell_type": "code",
   "execution_count": 28,
   "id": "f403b742",
   "metadata": {},
   "outputs": [],
   "source": [
    "from sklearn.model_selection import train_test_split\n",
    "X_train,X_test,y_train,y_test=train_test_split(X,y,test_size=0.2,random_state=1,stratify=y)"
   ]
  },
  {
   "cell_type": "code",
   "execution_count": 29,
   "id": "63720eca",
   "metadata": {},
   "outputs": [
    {
     "data": {
      "text/plain": [
       "0    4130\n",
       "1    1495\n",
       "Name: Churn, dtype: int64"
      ]
     },
     "execution_count": 29,
     "metadata": {},
     "output_type": "execute_result"
    }
   ],
   "source": [
    "y_train.value_counts()"
   ]
  },
  {
   "cell_type": "code",
   "execution_count": 30,
   "id": "3063aea6",
   "metadata": {},
   "outputs": [
    {
     "data": {
      "text/plain": [
       "0    1033\n",
       "1     374\n",
       "Name: Churn, dtype: int64"
      ]
     },
     "execution_count": 30,
     "metadata": {},
     "output_type": "execute_result"
    }
   ],
   "source": [
    "y_test.value_counts()"
   ]
  },
  {
   "cell_type": "code",
   "execution_count": 31,
   "id": "cf57ed4a",
   "metadata": {},
   "outputs": [
    {
     "data": {
      "text/plain": [
       "(7032, 26)"
      ]
     },
     "execution_count": 31,
     "metadata": {},
     "output_type": "execute_result"
    }
   ],
   "source": [
    "X.shape"
   ]
  },
  {
   "cell_type": "code",
   "execution_count": 32,
   "id": "7d40933d",
   "metadata": {},
   "outputs": [],
   "source": [
    "import tensorflow as tf\n",
    "from tensorflow import keras\n",
    "from sklearn.metrics import classification_report, confusion_matrix"
   ]
  },
  {
   "cell_type": "code",
   "execution_count": 33,
   "id": "fc960bfd",
   "metadata": {},
   "outputs": [],
   "source": [
    "def ANN(X_train, y_train, X_test, y_test):\n",
    "    model=keras.Sequential(\n",
    "    [keras.layers.Dense(26,input_dim=26,activation=\"relu\"),\n",
    "     keras.layers.Dense(10,activation=\"relu\"),\n",
    "     keras.layers.Dense(1,activation=\"sigmoid\")\n",
    "    ])\n",
    "    model.compile(optimizer=\"adam\",loss=\"binary_crossentropy\",metrics=[\"accuracy\"])\n",
    "    model.fit(X_train,y_train,epochs=100)\n",
    "    print(model.evaluate(X_test, y_test))\n",
    "    y_preds = model.predict(X_test)\n",
    "    y_preds = np.round(y_preds)\n",
    "    print(\"Classification Report: \\n\", classification_report(y_test, y_preds))\n",
    "    return y_preds"
   ]
  },
  {
   "cell_type": "code",
   "execution_count": 34,
   "id": "b2334741",
   "metadata": {},
   "outputs": [
    {
     "name": "stdout",
     "output_type": "stream",
     "text": [
      "Epoch 1/100\n",
      "176/176 [==============================] - 0s 909us/step - loss: 0.5050 - accuracy: 0.7417\n",
      "Epoch 2/100\n",
      "176/176 [==============================] - 0s 819us/step - loss: 0.4334 - accuracy: 0.7847\n",
      "Epoch 3/100\n",
      "176/176 [==============================] - 0s 1ms/step - loss: 0.4218 - accuracy: 0.7957\n",
      "Epoch 4/100\n",
      "176/176 [==============================] - 0s 1ms/step - loss: 0.4164 - accuracy: 0.7986\n",
      "Epoch 5/100\n",
      "176/176 [==============================] - 0s 1ms/step - loss: 0.4121 - accuracy: 0.8039\n",
      "Epoch 6/100\n",
      "176/176 [==============================] - 0s 994us/step - loss: 0.4096 - accuracy: 0.8064\n",
      "Epoch 7/100\n",
      "176/176 [==============================] - 0s 880us/step - loss: 0.4064 - accuracy: 0.8060\n",
      "Epoch 8/100\n",
      "176/176 [==============================] - 0s 1ms/step - loss: 0.4048 - accuracy: 0.8082\n",
      "Epoch 9/100\n",
      "176/176 [==============================] - 0s 1ms/step - loss: 0.4035 - accuracy: 0.8098\n",
      "Epoch 10/100\n",
      "176/176 [==============================] - 0s 741us/step - loss: 0.4021 - accuracy: 0.8091\n",
      "Epoch 11/100\n",
      "176/176 [==============================] - 0s 857us/step - loss: 0.3999 - accuracy: 0.8116\n",
      "Epoch 12/100\n",
      "176/176 [==============================] - 0s 864us/step - loss: 0.4007 - accuracy: 0.8108\n",
      "Epoch 13/100\n",
      "176/176 [==============================] - 0s 777us/step - loss: 0.3980 - accuracy: 0.8094\n",
      "Epoch 14/100\n",
      "176/176 [==============================] - 0s 1ms/step - loss: 0.3975 - accuracy: 0.8121\n",
      "Epoch 15/100\n",
      "176/176 [==============================] - 0s 959us/step - loss: 0.3968 - accuracy: 0.8142\n",
      "Epoch 16/100\n",
      "176/176 [==============================] - 0s 797us/step - loss: 0.3956 - accuracy: 0.8133\n",
      "Epoch 17/100\n",
      "176/176 [==============================] - 0s 876us/step - loss: 0.3947 - accuracy: 0.8130\n",
      "Epoch 18/100\n",
      "176/176 [==============================] - 0s 756us/step - loss: 0.3929 - accuracy: 0.8144\n",
      "Epoch 19/100\n",
      "176/176 [==============================] - 0s 975us/step - loss: 0.3925 - accuracy: 0.8164\n",
      "Epoch 20/100\n",
      "176/176 [==============================] - 0s 1ms/step - loss: 0.3914 - accuracy: 0.8162\n",
      "Epoch 21/100\n",
      "176/176 [==============================] - 0s 738us/step - loss: 0.3905 - accuracy: 0.8148\n",
      "Epoch 22/100\n",
      "176/176 [==============================] - 0s 924us/step - loss: 0.3891 - accuracy: 0.8160\n",
      "Epoch 23/100\n",
      "176/176 [==============================] - 0s 760us/step - loss: 0.3891 - accuracy: 0.8169\n",
      "Epoch 24/100\n",
      "176/176 [==============================] - 0s 875us/step - loss: 0.3890 - accuracy: 0.8176\n",
      "Epoch 25/100\n",
      "176/176 [==============================] - 0s 1ms/step - loss: 0.3862 - accuracy: 0.8183\n",
      "Epoch 26/100\n",
      "176/176 [==============================] - 0s 1ms/step - loss: 0.3861 - accuracy: 0.8174\n",
      "Epoch 27/100\n",
      "176/176 [==============================] - 0s 763us/step - loss: 0.3857 - accuracy: 0.8192\n",
      "Epoch 28/100\n",
      "176/176 [==============================] - 0s 880us/step - loss: 0.3839 - accuracy: 0.8190\n",
      "Epoch 29/100\n",
      "176/176 [==============================] - 0s 747us/step - loss: 0.3837 - accuracy: 0.8181\n",
      "Epoch 30/100\n",
      "176/176 [==============================] - 0s 910us/step - loss: 0.3831 - accuracy: 0.8203\n",
      "Epoch 31/100\n",
      "176/176 [==============================] - 0s 898us/step - loss: 0.3825 - accuracy: 0.8164\n",
      "Epoch 32/100\n",
      "176/176 [==============================] - 0s 969us/step - loss: 0.3816 - accuracy: 0.8194\n",
      "Epoch 33/100\n",
      "176/176 [==============================] - 0s 1ms/step - loss: 0.3801 - accuracy: 0.8187\n",
      "Epoch 34/100\n",
      "176/176 [==============================] - 0s 955us/step - loss: 0.3802 - accuracy: 0.8212\n",
      "Epoch 35/100\n",
      "176/176 [==============================] - 0s 781us/step - loss: 0.3784 - accuracy: 0.8220\n",
      "Epoch 36/100\n",
      "176/176 [==============================] - 0s 966us/step - loss: 0.3795 - accuracy: 0.8201\n",
      "Epoch 37/100\n",
      "176/176 [==============================] - 0s 871us/step - loss: 0.3782 - accuracy: 0.8212\n",
      "Epoch 38/100\n",
      "176/176 [==============================] - 0s 833us/step - loss: 0.3782 - accuracy: 0.8229\n",
      "Epoch 39/100\n",
      "176/176 [==============================] - 0s 1ms/step - loss: 0.3763 - accuracy: 0.8229\n",
      "Epoch 40/100\n",
      "176/176 [==============================] - 0s 850us/step - loss: 0.3750 - accuracy: 0.8254\n",
      "Epoch 41/100\n",
      "176/176 [==============================] - 0s 775us/step - loss: 0.3755 - accuracy: 0.8258\n",
      "Epoch 42/100\n",
      "176/176 [==============================] - 0s 803us/step - loss: 0.3746 - accuracy: 0.8247\n",
      "Epoch 43/100\n",
      "176/176 [==============================] - 0s 907us/step - loss: 0.3735 - accuracy: 0.8244\n",
      "Epoch 44/100\n",
      "176/176 [==============================] - 0s 803us/step - loss: 0.3729 - accuracy: 0.8247\n",
      "Epoch 45/100\n",
      "176/176 [==============================] - 0s 2ms/step - loss: 0.3715 - accuracy: 0.8309\n",
      "Epoch 46/100\n",
      "176/176 [==============================] - 0s 815us/step - loss: 0.3713 - accuracy: 0.8281\n",
      "Epoch 47/100\n",
      "176/176 [==============================] - 0s 960us/step - loss: 0.3725 - accuracy: 0.8274\n",
      "Epoch 48/100\n",
      "176/176 [==============================] - 0s 745us/step - loss: 0.3717 - accuracy: 0.8267\n",
      "Epoch 49/100\n",
      "176/176 [==============================] - 0s 908us/step - loss: 0.3698 - accuracy: 0.8286\n",
      "Epoch 50/100\n",
      "176/176 [==============================] - 0s 813us/step - loss: 0.3688 - accuracy: 0.8293\n",
      "Epoch 51/100\n",
      "176/176 [==============================] - 0s 919us/step - loss: 0.3704 - accuracy: 0.8268\n",
      "Epoch 52/100\n",
      "176/176 [==============================] - 0s 888us/step - loss: 0.3685 - accuracy: 0.8276\n",
      "Epoch 53/100\n",
      "176/176 [==============================] - 0s 837us/step - loss: 0.3687 - accuracy: 0.8297\n",
      "Epoch 54/100\n",
      "176/176 [==============================] - 0s 881us/step - loss: 0.3671 - accuracy: 0.8302\n",
      "Epoch 55/100\n",
      "176/176 [==============================] - 0s 1ms/step - loss: 0.3678 - accuracy: 0.8290\n",
      "Epoch 56/100\n",
      "176/176 [==============================] - 0s 771us/step - loss: 0.3669 - accuracy: 0.8316\n",
      "Epoch 57/100\n",
      "176/176 [==============================] - 0s 1ms/step - loss: 0.3660 - accuracy: 0.8299\n",
      "Epoch 58/100\n",
      "176/176 [==============================] - 0s 907us/step - loss: 0.3666 - accuracy: 0.8306\n",
      "Epoch 59/100\n",
      "176/176 [==============================] - 0s 856us/step - loss: 0.3663 - accuracy: 0.8304\n",
      "Epoch 60/100\n",
      "176/176 [==============================] - 0s 840us/step - loss: 0.3644 - accuracy: 0.8308\n",
      "Epoch 61/100\n",
      "176/176 [==============================] - 0s 863us/step - loss: 0.3652 - accuracy: 0.8295\n",
      "Epoch 62/100\n",
      "176/176 [==============================] - 0s 722us/step - loss: 0.3636 - accuracy: 0.8293\n",
      "Epoch 63/100\n",
      "176/176 [==============================] - 0s 995us/step - loss: 0.3649 - accuracy: 0.8308\n",
      "Epoch 64/100\n",
      "176/176 [==============================] - 0s 1ms/step - loss: 0.3640 - accuracy: 0.8315\n",
      "Epoch 65/100\n",
      "176/176 [==============================] - 0s 907us/step - loss: 0.3638 - accuracy: 0.8299\n",
      "Epoch 66/100\n",
      "176/176 [==============================] - 0s 1ms/step - loss: 0.3617 - accuracy: 0.8338\n",
      "Epoch 67/100\n",
      "176/176 [==============================] - 0s 906us/step - loss: 0.3622 - accuracy: 0.8332\n",
      "Epoch 68/100\n",
      "176/176 [==============================] - 0s 771us/step - loss: 0.3620 - accuracy: 0.8329\n",
      "Epoch 69/100\n",
      "176/176 [==============================] - 0s 1ms/step - loss: 0.3616 - accuracy: 0.8331\n",
      "Epoch 70/100\n",
      "176/176 [==============================] - 0s 840us/step - loss: 0.3621 - accuracy: 0.8331\n",
      "Epoch 71/100\n",
      "176/176 [==============================] - 0s 787us/step - loss: 0.3612 - accuracy: 0.8313\n",
      "Epoch 72/100\n",
      "176/176 [==============================] - 0s 985us/step - loss: 0.3602 - accuracy: 0.8340\n",
      "Epoch 73/100\n",
      "176/176 [==============================] - 0s 771us/step - loss: 0.3599 - accuracy: 0.8327\n",
      "Epoch 74/100\n",
      "176/176 [==============================] - 0s 985us/step - loss: 0.3606 - accuracy: 0.8341\n",
      "Epoch 75/100\n",
      "176/176 [==============================] - 0s 1ms/step - loss: 0.3611 - accuracy: 0.8356\n",
      "Epoch 76/100\n",
      "176/176 [==============================] - 0s 776us/step - loss: 0.3592 - accuracy: 0.8336\n",
      "Epoch 77/100\n",
      "176/176 [==============================] - 0s 873us/step - loss: 0.3584 - accuracy: 0.83520s - loss: 0.3645 - accuracy: \n",
      "Epoch 78/100\n",
      "176/176 [==============================] - 0s 1ms/step - loss: 0.3587 - accuracy: 0.8363\n",
      "Epoch 79/100\n",
      "176/176 [==============================] - 0s 834us/step - loss: 0.3597 - accuracy: 0.8340\n"
     ]
    },
    {
     "name": "stdout",
     "output_type": "stream",
     "text": [
      "Epoch 80/100\n",
      "176/176 [==============================] - 0s 958us/step - loss: 0.3583 - accuracy: 0.8341\n",
      "Epoch 81/100\n",
      "176/176 [==============================] - 0s 893us/step - loss: 0.3575 - accuracy: 0.8361\n",
      "Epoch 82/100\n",
      "176/176 [==============================] - 0s 729us/step - loss: 0.3582 - accuracy: 0.8332\n",
      "Epoch 83/100\n",
      "176/176 [==============================] - 0s 900us/step - loss: 0.3575 - accuracy: 0.8350\n",
      "Epoch 84/100\n",
      "176/176 [==============================] - 0s 874us/step - loss: 0.3569 - accuracy: 0.8345\n",
      "Epoch 85/100\n",
      "176/176 [==============================] - 0s 909us/step - loss: 0.3569 - accuracy: 0.8336\n",
      "Epoch 86/100\n",
      "176/176 [==============================] - 0s 820us/step - loss: 0.3563 - accuracy: 0.8363\n",
      "Epoch 87/100\n",
      "176/176 [==============================] - 0s 815us/step - loss: 0.3561 - accuracy: 0.8379\n",
      "Epoch 88/100\n",
      "176/176 [==============================] - 0s 975us/step - loss: 0.3559 - accuracy: 0.8343\n",
      "Epoch 89/100\n",
      "176/176 [==============================] - 0s 761us/step - loss: 0.3551 - accuracy: 0.8377\n",
      "Epoch 90/100\n",
      "176/176 [==============================] - 0s 882us/step - loss: 0.3558 - accuracy: 0.8364\n",
      "Epoch 91/100\n",
      "176/176 [==============================] - 0s 817us/step - loss: 0.3554 - accuracy: 0.8359\n",
      "Epoch 92/100\n",
      "176/176 [==============================] - 0s 768us/step - loss: 0.3553 - accuracy: 0.8388\n",
      "Epoch 93/100\n",
      "176/176 [==============================] - 0s 1ms/step - loss: 0.3546 - accuracy: 0.8382\n",
      "Epoch 94/100\n",
      "176/176 [==============================] - 0s 907us/step - loss: 0.3541 - accuracy: 0.8363\n",
      "Epoch 95/100\n",
      "176/176 [==============================] - 0s 745us/step - loss: 0.3558 - accuracy: 0.8368\n",
      "Epoch 96/100\n",
      "176/176 [==============================] - 0s 892us/step - loss: 0.3538 - accuracy: 0.8363\n",
      "Epoch 97/100\n",
      "176/176 [==============================] - 0s 780us/step - loss: 0.3539 - accuracy: 0.8347\n",
      "Epoch 98/100\n",
      "176/176 [==============================] - 0s 1ms/step - loss: 0.3528 - accuracy: 0.8354\n",
      "Epoch 99/100\n",
      "176/176 [==============================] - 0s 974us/step - loss: 0.3522 - accuracy: 0.8386\n",
      "Epoch 100/100\n",
      "176/176 [==============================] - 0s 742us/step - loss: 0.3529 - accuracy: 0.8386\n",
      "44/44 [==============================] - 0s 742us/step - loss: 0.5041 - accuracy: 0.7662\n",
      "[0.5041453242301941, 0.7661691308021545]\n",
      "Classification Report: \n",
      "               precision    recall  f1-score   support\n",
      "\n",
      "           0       0.83      0.86      0.84      1033\n",
      "           1       0.57      0.50      0.53       374\n",
      "\n",
      "    accuracy                           0.77      1407\n",
      "   macro avg       0.70      0.68      0.69      1407\n",
      "weighted avg       0.76      0.77      0.76      1407\n",
      "\n"
     ]
    }
   ],
   "source": [
    "y_preds = ANN(X_train, y_train, X_test, y_test)"
   ]
  },
  {
   "cell_type": "code",
   "execution_count": 35,
   "id": "8719e219",
   "metadata": {},
   "outputs": [
    {
     "name": "stdout",
     "output_type": "stream",
     "text": [
      "[[890 143]\n",
      " [186 188]]\n"
     ]
    }
   ],
   "source": [
    "print(confusion_matrix(y_test,y_preds))"
   ]
  },
  {
   "cell_type": "markdown",
   "id": "38790bbb",
   "metadata": {},
   "source": [
    "# UNDERSAMPLING"
   ]
  },
  {
   "cell_type": "code",
   "execution_count": 36,
   "id": "934bd004",
   "metadata": {},
   "outputs": [],
   "source": [
    "c0=df[df[\"Churn\"]==0]"
   ]
  },
  {
   "cell_type": "code",
   "execution_count": 37,
   "id": "8f2e7e9e",
   "metadata": {},
   "outputs": [],
   "source": [
    "c1=df[df[\"Churn\"]==1]"
   ]
  },
  {
   "cell_type": "code",
   "execution_count": 38,
   "id": "196c1ba1",
   "metadata": {},
   "outputs": [
    {
     "data": {
      "text/plain": [
       "0    5163\n",
       "1    1869\n",
       "Name: Churn, dtype: int64"
      ]
     },
     "execution_count": 38,
     "metadata": {},
     "output_type": "execute_result"
    }
   ],
   "source": [
    "df.Churn.value_counts()"
   ]
  },
  {
   "cell_type": "code",
   "execution_count": 39,
   "id": "bf922b92",
   "metadata": {},
   "outputs": [],
   "source": [
    "count0,count1=df.Churn.value_counts()"
   ]
  },
  {
   "cell_type": "code",
   "execution_count": 40,
   "id": "8882c902",
   "metadata": {},
   "outputs": [],
   "source": [
    "c0_under=c0.sample(count1)"
   ]
  },
  {
   "cell_type": "code",
   "execution_count": 41,
   "id": "06ee201f",
   "metadata": {},
   "outputs": [],
   "source": [
    "df_under=pd.concat([c0_under,c1])"
   ]
  },
  {
   "cell_type": "code",
   "execution_count": 42,
   "id": "a5c82333",
   "metadata": {},
   "outputs": [
    {
     "data": {
      "text/plain": [
       "0    1869\n",
       "1    1869\n",
       "Name: Churn, dtype: int64"
      ]
     },
     "execution_count": 42,
     "metadata": {},
     "output_type": "execute_result"
    }
   ],
   "source": [
    "df_under.Churn.value_counts()"
   ]
  },
  {
   "cell_type": "code",
   "execution_count": 43,
   "id": "d9bc26fa",
   "metadata": {},
   "outputs": [],
   "source": [
    "X=df_under.drop(\"Churn\",axis=\"columns\")\n",
    "y=df_under.Churn"
   ]
  },
  {
   "cell_type": "code",
   "execution_count": 44,
   "id": "61e7969f",
   "metadata": {},
   "outputs": [],
   "source": [
    "X_train,X_test,y_train,y_test=train_test_split(X,y,test_size=0.2,random_state=1,stratify=y)"
   ]
  },
  {
   "cell_type": "code",
   "execution_count": 45,
   "id": "f113eac7",
   "metadata": {},
   "outputs": [
    {
     "name": "stdout",
     "output_type": "stream",
     "text": [
      "Epoch 1/100\n",
      "94/94 [==============================] - 0s 854us/step - loss: 0.6175 - accuracy: 0.6582\n",
      "Epoch 2/100\n",
      "94/94 [==============================] - 0s 820us/step - loss: 0.5149 - accuracy: 0.7478\n",
      "Epoch 3/100\n",
      "94/94 [==============================] - 0s 1ms/step - loss: 0.4968 - accuracy: 0.7585\n",
      "Epoch 4/100\n",
      "94/94 [==============================] - 0s 1ms/step - loss: 0.4890 - accuracy: 0.7615\n",
      "Epoch 5/100\n",
      "94/94 [==============================] - 0s 1ms/step - loss: 0.4851 - accuracy: 0.7659\n",
      "Epoch 6/100\n",
      "94/94 [==============================] - 0s 773us/step - loss: 0.4811 - accuracy: 0.7716\n",
      "Epoch 7/100\n",
      "94/94 [==============================] - 0s 798us/step - loss: 0.4789 - accuracy: 0.7742\n",
      "Epoch 8/100\n",
      "94/94 [==============================] - 0s 983us/step - loss: 0.4770 - accuracy: 0.7686\n",
      "Epoch 9/100\n",
      "94/94 [==============================] - 0s 822us/step - loss: 0.4749 - accuracy: 0.7736\n",
      "Epoch 10/100\n",
      "94/94 [==============================] - 0s 906us/step - loss: 0.4742 - accuracy: 0.7736\n",
      "Epoch 11/100\n",
      "94/94 [==============================] - 0s 1ms/step - loss: 0.4725 - accuracy: 0.7732\n",
      "Epoch 12/100\n",
      "94/94 [==============================] - 0s 849us/step - loss: 0.4703 - accuracy: 0.7672\n",
      "Epoch 13/100\n",
      "94/94 [==============================] - 0s 819us/step - loss: 0.4680 - accuracy: 0.7796\n",
      "Epoch 14/100\n",
      "94/94 [==============================] - 0s 1ms/step - loss: 0.4684 - accuracy: 0.7783\n",
      "Epoch 15/100\n",
      "94/94 [==============================] - 0s 808us/step - loss: 0.4645 - accuracy: 0.7783\n",
      "Epoch 16/100\n",
      "94/94 [==============================] - 0s 998us/step - loss: 0.4657 - accuracy: 0.7773\n",
      "Epoch 17/100\n",
      "94/94 [==============================] - 0s 810us/step - loss: 0.4626 - accuracy: 0.7806\n",
      "Epoch 18/100\n",
      "94/94 [==============================] - 0s 819us/step - loss: 0.4617 - accuracy: 0.7766\n",
      "Epoch 19/100\n",
      "94/94 [==============================] - 0s 1ms/step - loss: 0.4609 - accuracy: 0.7789\n",
      "Epoch 20/100\n",
      "94/94 [==============================] - 0s 770us/step - loss: 0.4604 - accuracy: 0.7776\n",
      "Epoch 21/100\n",
      "94/94 [==============================] - 0s 774us/step - loss: 0.4583 - accuracy: 0.7776\n",
      "Epoch 22/100\n",
      "94/94 [==============================] - 0s 1ms/step - loss: 0.4583 - accuracy: 0.7806\n",
      "Epoch 23/100\n",
      "94/94 [==============================] - 0s 790us/step - loss: 0.4554 - accuracy: 0.7823\n",
      "Epoch 24/100\n",
      "94/94 [==============================] - 0s 757us/step - loss: 0.4544 - accuracy: 0.7853\n",
      "Epoch 25/100\n",
      "94/94 [==============================] - 0s 1ms/step - loss: 0.4536 - accuracy: 0.7846\n",
      "Epoch 26/100\n",
      "94/94 [==============================] - 0s 789us/step - loss: 0.4522 - accuracy: 0.7856\n",
      "Epoch 27/100\n",
      "94/94 [==============================] - 0s 747us/step - loss: 0.4515 - accuracy: 0.7826\n",
      "Epoch 28/100\n",
      "94/94 [==============================] - 0s 959us/step - loss: 0.4502 - accuracy: 0.7866\n",
      "Epoch 29/100\n",
      "94/94 [==============================] - 0s 725us/step - loss: 0.4500 - accuracy: 0.7816\n",
      "Epoch 30/100\n",
      "94/94 [==============================] - 0s 757us/step - loss: 0.4482 - accuracy: 0.7853\n",
      "Epoch 31/100\n",
      "94/94 [==============================] - 0s 1ms/step - loss: 0.4484 - accuracy: 0.7846\n",
      "Epoch 32/100\n",
      "94/94 [==============================] - 0s 784us/step - loss: 0.4468 - accuracy: 0.7913\n",
      "Epoch 33/100\n",
      "94/94 [==============================] - 0s 766us/step - loss: 0.4447 - accuracy: 0.7873\n",
      "Epoch 34/100\n",
      "94/94 [==============================] - 0s 968us/step - loss: 0.4444 - accuracy: 0.7870\n",
      "Epoch 35/100\n",
      "94/94 [==============================] - 0s 735us/step - loss: 0.4447 - accuracy: 0.7849\n",
      "Epoch 36/100\n",
      "94/94 [==============================] - 0s 833us/step - loss: 0.4429 - accuracy: 0.7896\n",
      "Epoch 37/100\n",
      "94/94 [==============================] - 0s 1ms/step - loss: 0.4417 - accuracy: 0.7893\n",
      "Epoch 38/100\n",
      "94/94 [==============================] - 0s 978us/step - loss: 0.4394 - accuracy: 0.7933\n",
      "Epoch 39/100\n",
      "94/94 [==============================] - 0s 786us/step - loss: 0.4388 - accuracy: 0.7900\n",
      "Epoch 40/100\n",
      "94/94 [==============================] - 0s 968us/step - loss: 0.4384 - accuracy: 0.7913\n",
      "Epoch 41/100\n",
      "94/94 [==============================] - 0s 792us/step - loss: 0.4375 - accuracy: 0.7950\n",
      "Epoch 42/100\n",
      "94/94 [==============================] - 0s 808us/step - loss: 0.4361 - accuracy: 0.7936\n",
      "Epoch 43/100\n",
      "94/94 [==============================] - 0s 936us/step - loss: 0.4349 - accuracy: 0.7903\n",
      "Epoch 44/100\n",
      "94/94 [==============================] - 0s 806us/step - loss: 0.4346 - accuracy: 0.7950\n",
      "Epoch 45/100\n",
      "94/94 [==============================] - 0s 802us/step - loss: 0.4338 - accuracy: 0.7926\n",
      "Epoch 46/100\n",
      "94/94 [==============================] - 0s 1ms/step - loss: 0.4319 - accuracy: 0.7920\n",
      "Epoch 47/100\n",
      "94/94 [==============================] - 0s 836us/step - loss: 0.4324 - accuracy: 0.7926\n",
      "Epoch 48/100\n",
      "94/94 [==============================] - 0s 786us/step - loss: 0.4291 - accuracy: 0.7973\n",
      "Epoch 49/100\n",
      "94/94 [==============================] - 0s 1ms/step - loss: 0.4306 - accuracy: 0.7973\n",
      "Epoch 50/100\n",
      "94/94 [==============================] - 0s 951us/step - loss: 0.4291 - accuracy: 0.8027\n",
      "Epoch 51/100\n",
      "94/94 [==============================] - 0s 1ms/step - loss: 0.4281 - accuracy: 0.8003\n",
      "Epoch 52/100\n",
      "94/94 [==============================] - 0s 737us/step - loss: 0.4266 - accuracy: 0.8007\n",
      "Epoch 53/100\n",
      "94/94 [==============================] - 0s 798us/step - loss: 0.4267 - accuracy: 0.8023\n",
      "Epoch 54/100\n",
      "94/94 [==============================] - 0s 978us/step - loss: 0.4253 - accuracy: 0.7993\n",
      "Epoch 55/100\n",
      "94/94 [==============================] - 0s 788us/step - loss: 0.4245 - accuracy: 0.8007\n",
      "Epoch 56/100\n",
      "94/94 [==============================] - 0s 764us/step - loss: 0.4228 - accuracy: 0.8057\n",
      "Epoch 57/100\n",
      "94/94 [==============================] - 0s 1ms/step - loss: 0.4228 - accuracy: 0.8027\n",
      "Epoch 58/100\n",
      "94/94 [==============================] - 0s 819us/step - loss: 0.4216 - accuracy: 0.8047\n",
      "Epoch 59/100\n",
      "94/94 [==============================] - 0s 776us/step - loss: 0.4223 - accuracy: 0.8050\n",
      "Epoch 60/100\n",
      "94/94 [==============================] - 0s 970us/step - loss: 0.4202 - accuracy: 0.8037\n",
      "Epoch 61/100\n",
      "94/94 [==============================] - 0s 779us/step - loss: 0.4195 - accuracy: 0.8060\n",
      "Epoch 62/100\n",
      "94/94 [==============================] - 0s 922us/step - loss: 0.4175 - accuracy: 0.8057\n",
      "Epoch 63/100\n",
      "94/94 [==============================] - 0s 1ms/step - loss: 0.4177 - accuracy: 0.8090\n",
      "Epoch 64/100\n",
      "94/94 [==============================] - 0s 777us/step - loss: 0.4151 - accuracy: 0.8090\n",
      "Epoch 65/100\n",
      "94/94 [==============================] - 0s 781us/step - loss: 0.4135 - accuracy: 0.8087\n",
      "Epoch 66/100\n",
      "94/94 [==============================] - 0s 971us/step - loss: 0.4140 - accuracy: 0.8064\n",
      "Epoch 67/100\n",
      "94/94 [==============================] - 0s 751us/step - loss: 0.4124 - accuracy: 0.8114\n",
      "Epoch 68/100\n",
      "94/94 [==============================] - 0s 2ms/step - loss: 0.4108 - accuracy: 0.8114\n",
      "Epoch 69/100\n",
      "94/94 [==============================] - 0s 948us/step - loss: 0.4126 - accuracy: 0.8120\n",
      "Epoch 70/100\n",
      "94/94 [==============================] - 0s 980us/step - loss: 0.4104 - accuracy: 0.8070\n",
      "Epoch 71/100\n",
      "94/94 [==============================] - 0s 776us/step - loss: 0.4091 - accuracy: 0.8107\n",
      "Epoch 72/100\n",
      "94/94 [==============================] - 0s 821us/step - loss: 0.4090 - accuracy: 0.8114\n",
      "Epoch 73/100\n",
      "94/94 [==============================] - 0s 955us/step - loss: 0.4083 - accuracy: 0.8137\n",
      "Epoch 74/100\n",
      "94/94 [==============================] - 0s 835us/step - loss: 0.4073 - accuracy: 0.8127\n",
      "Epoch 75/100\n",
      "94/94 [==============================] - 0s 869us/step - loss: 0.4075 - accuracy: 0.8167\n",
      "Epoch 76/100\n",
      "94/94 [==============================] - 0s 1ms/step - loss: 0.4061 - accuracy: 0.8104\n",
      "Epoch 77/100\n",
      "94/94 [==============================] - 0s 793us/step - loss: 0.4052 - accuracy: 0.8174\n",
      "Epoch 78/100\n",
      "94/94 [==============================] - 0s 967us/step - loss: 0.4037 - accuracy: 0.8164\n",
      "Epoch 79/100\n",
      "94/94 [==============================] - 0s 758us/step - loss: 0.4036 - accuracy: 0.8164\n",
      "Epoch 80/100\n",
      "94/94 [==============================] - 0s 876us/step - loss: 0.4033 - accuracy: 0.8181\n",
      "Epoch 81/100\n"
     ]
    },
    {
     "name": "stdout",
     "output_type": "stream",
     "text": [
      "94/94 [==============================] - 0s 1ms/step - loss: 0.4016 - accuracy: 0.8204\n",
      "Epoch 82/100\n",
      "94/94 [==============================] - 0s 813us/step - loss: 0.3991 - accuracy: 0.8161\n",
      "Epoch 83/100\n",
      "94/94 [==============================] - 0s 712us/step - loss: 0.4001 - accuracy: 0.8184\n",
      "Epoch 84/100\n",
      "94/94 [==============================] - 0s 1ms/step - loss: 0.4007 - accuracy: 0.8201\n",
      "Epoch 85/100\n",
      "94/94 [==============================] - 0s 917us/step - loss: 0.3980 - accuracy: 0.8181\n",
      "Epoch 86/100\n",
      "94/94 [==============================] - 0s 813us/step - loss: 0.3979 - accuracy: 0.8201\n",
      "Epoch 87/100\n",
      "94/94 [==============================] - 0s 1ms/step - loss: 0.3957 - accuracy: 0.8204\n",
      "Epoch 88/100\n",
      "94/94 [==============================] - 0s 826us/step - loss: 0.3948 - accuracy: 0.8207\n",
      "Epoch 89/100\n",
      "94/94 [==============================] - 0s 797us/step - loss: 0.3960 - accuracy: 0.8217\n",
      "Epoch 90/100\n",
      "94/94 [==============================] - 0s 962us/step - loss: 0.3923 - accuracy: 0.8241\n",
      "Epoch 91/100\n",
      "94/94 [==============================] - 0s 734us/step - loss: 0.3934 - accuracy: 0.8234\n",
      "Epoch 92/100\n",
      "94/94 [==============================] - 0s 800us/step - loss: 0.3920 - accuracy: 0.8237\n",
      "Epoch 93/100\n",
      "94/94 [==============================] - 0s 1ms/step - loss: 0.3928 - accuracy: 0.8211\n",
      "Epoch 94/100\n",
      "94/94 [==============================] - 0s 772us/step - loss: 0.3925 - accuracy: 0.8224\n",
      "Epoch 95/100\n",
      "94/94 [==============================] - 0s 824us/step - loss: 0.3895 - accuracy: 0.8227\n",
      "Epoch 96/100\n",
      "94/94 [==============================] - 0s 946us/step - loss: 0.3906 - accuracy: 0.8247\n",
      "Epoch 97/100\n",
      "94/94 [==============================] - 0s 732us/step - loss: 0.3905 - accuracy: 0.8268\n",
      "Epoch 98/100\n",
      "94/94 [==============================] - 0s 755us/step - loss: 0.3875 - accuracy: 0.8301\n",
      "Epoch 99/100\n",
      "94/94 [==============================] - 0s 1ms/step - loss: 0.3884 - accuracy: 0.8301\n",
      "Epoch 100/100\n",
      "94/94 [==============================] - 0s 888us/step - loss: 0.3871 - accuracy: 0.8217\n",
      "24/24 [==============================] - 0s 675us/step - loss: 0.5654 - accuracy: 0.7326\n",
      "[0.5653672218322754, 0.7326202988624573]\n",
      "Classification Report: \n",
      "               precision    recall  f1-score   support\n",
      "\n",
      "           0       0.76      0.69      0.72       374\n",
      "           1       0.71      0.78      0.74       374\n",
      "\n",
      "    accuracy                           0.73       748\n",
      "   macro avg       0.73      0.73      0.73       748\n",
      "weighted avg       0.73      0.73      0.73       748\n",
      "\n"
     ]
    }
   ],
   "source": [
    "y_preds = ANN(X_train, y_train, X_test, y_test)"
   ]
  },
  {
   "cell_type": "markdown",
   "id": "33650583",
   "metadata": {},
   "source": [
    "#OVERSAMPLING"
   ]
  },
  {
   "cell_type": "code",
   "execution_count": 46,
   "id": "a141fe19",
   "metadata": {},
   "outputs": [],
   "source": [
    "c1_over=c1.sample(count0,replace=True)"
   ]
  },
  {
   "cell_type": "code",
   "execution_count": 47,
   "id": "d2a74cfb",
   "metadata": {},
   "outputs": [
    {
     "data": {
      "text/plain": [
       "1    5163\n",
       "Name: Churn, dtype: int64"
      ]
     },
     "execution_count": 47,
     "metadata": {},
     "output_type": "execute_result"
    }
   ],
   "source": [
    "c1_over.Churn.value_counts()"
   ]
  },
  {
   "cell_type": "code",
   "execution_count": 48,
   "id": "eb969c5c",
   "metadata": {},
   "outputs": [],
   "source": [
    "df_over=pd.concat([c1_over,c0])"
   ]
  },
  {
   "cell_type": "code",
   "execution_count": 49,
   "id": "1653b78a",
   "metadata": {},
   "outputs": [
    {
     "data": {
      "text/plain": [
       "1    5163\n",
       "0    5163\n",
       "Name: Churn, dtype: int64"
      ]
     },
     "execution_count": 49,
     "metadata": {},
     "output_type": "execute_result"
    }
   ],
   "source": [
    "df_over.Churn.value_counts()"
   ]
  },
  {
   "cell_type": "code",
   "execution_count": 50,
   "id": "4830b5b5",
   "metadata": {},
   "outputs": [],
   "source": [
    "X=df_over.drop(\"Churn\",axis=\"columns\")\n",
    "y=df_over.Churn"
   ]
  },
  {
   "cell_type": "code",
   "execution_count": 51,
   "id": "5ffb5864",
   "metadata": {},
   "outputs": [],
   "source": [
    "X_train,X_test,y_train,y_test=train_test_split(X,y,test_size=0.2,random_state=1,stratify=y)"
   ]
  },
  {
   "cell_type": "code",
   "execution_count": 52,
   "id": "d0ae8d64",
   "metadata": {},
   "outputs": [
    {
     "name": "stdout",
     "output_type": "stream",
     "text": [
      "Epoch 1/100\n",
      "259/259 [==============================] - 0s 888us/step - loss: 0.5544 - accuracy: 0.7260\n",
      "Epoch 2/100\n",
      "259/259 [==============================] - 0s 915us/step - loss: 0.4894 - accuracy: 0.7603\n",
      "Epoch 3/100\n",
      "259/259 [==============================] - 0s 902us/step - loss: 0.4826 - accuracy: 0.7630\n",
      "Epoch 4/100\n",
      "259/259 [==============================] - 0s 875us/step - loss: 0.4784 - accuracy: 0.7653\n",
      "Epoch 5/100\n",
      "259/259 [==============================] - 0s 957us/step - loss: 0.4751 - accuracy: 0.7650\n",
      "Epoch 6/100\n",
      "259/259 [==============================] - 0s 838us/step - loss: 0.4717 - accuracy: 0.7686\n",
      "Epoch 7/100\n",
      "259/259 [==============================] - 0s 822us/step - loss: 0.4705 - accuracy: 0.7697\n",
      "Epoch 8/100\n",
      "259/259 [==============================] - 0s 829us/step - loss: 0.4676 - accuracy: 0.7701\n",
      "Epoch 9/100\n",
      "259/259 [==============================] - 0s 876us/step - loss: 0.4649 - accuracy: 0.7724\n",
      "Epoch 10/100\n",
      "259/259 [==============================] - 0s 830us/step - loss: 0.4634 - accuracy: 0.7738\n",
      "Epoch 11/100\n",
      "259/259 [==============================] - 0s 751us/step - loss: 0.4613 - accuracy: 0.7765\n",
      "Epoch 12/100\n",
      "259/259 [==============================] - 0s 835us/step - loss: 0.4591 - accuracy: 0.7758\n",
      "Epoch 13/100\n",
      "259/259 [==============================] - 0s 810us/step - loss: 0.4572 - accuracy: 0.7762\n",
      "Epoch 14/100\n",
      "259/259 [==============================] - 0s 829us/step - loss: 0.4543 - accuracy: 0.7792\n",
      "Epoch 15/100\n",
      "259/259 [==============================] - 0s 863us/step - loss: 0.4530 - accuracy: 0.7793\n",
      "Epoch 16/100\n",
      "259/259 [==============================] - 0s 826us/step - loss: 0.4493 - accuracy: 0.7840\n",
      "Epoch 17/100\n",
      "259/259 [==============================] - 0s 835us/step - loss: 0.4480 - accuracy: 0.7818\n",
      "Epoch 18/100\n",
      "259/259 [==============================] - 0s 742us/step - loss: 0.4476 - accuracy: 0.7810\n",
      "Epoch 19/100\n",
      "259/259 [==============================] - 0s 1ms/step - loss: 0.4443 - accuracy: 0.7835: 0s - loss: 0.4459 - accuracy: 0.78\n",
      "Epoch 20/100\n",
      "259/259 [==============================] - 0s 747us/step - loss: 0.4429 - accuracy: 0.7833\n",
      "Epoch 21/100\n",
      "259/259 [==============================] - 0s 805us/step - loss: 0.4411 - accuracy: 0.7846\n",
      "Epoch 22/100\n",
      "259/259 [==============================] - 0s 1ms/step - loss: 0.4399 - accuracy: 0.7868\n",
      "Epoch 23/100\n",
      "259/259 [==============================] - 0s 1ms/step - loss: 0.4370 - accuracy: 0.7898\n",
      "Epoch 24/100\n",
      "259/259 [==============================] - 0s 1ms/step - loss: 0.4363 - accuracy: 0.7890\n",
      "Epoch 25/100\n",
      "259/259 [==============================] - 0s 1ms/step - loss: 0.4341 - accuracy: 0.7904\n",
      "Epoch 26/100\n",
      "259/259 [==============================] - 0s 1ms/step - loss: 0.4339 - accuracy: 0.7877: 0s - loss: 0.4405 - accuracy\n",
      "Epoch 27/100\n",
      "259/259 [==============================] - 0s 935us/step - loss: 0.4302 - accuracy: 0.7900\n",
      "Epoch 28/100\n",
      "259/259 [==============================] - 0s 834us/step - loss: 0.4300 - accuracy: 0.7919\n",
      "Epoch 29/100\n",
      "259/259 [==============================] - 0s 1ms/step - loss: 0.4283 - accuracy: 0.7933\n",
      "Epoch 30/100\n",
      "259/259 [==============================] - 0s 773us/step - loss: 0.4278 - accuracy: 0.7929\n",
      "Epoch 31/100\n",
      "259/259 [==============================] - 0s 894us/step - loss: 0.4258 - accuracy: 0.7961\n",
      "Epoch 32/100\n",
      "259/259 [==============================] - 0s 937us/step - loss: 0.4237 - accuracy: 0.7953\n",
      "Epoch 33/100\n",
      "259/259 [==============================] - 0s 845us/step - loss: 0.4225 - accuracy: 0.7981\n",
      "Epoch 34/100\n",
      "259/259 [==============================] - 0s 877us/step - loss: 0.4216 - accuracy: 0.8001\n",
      "Epoch 35/100\n",
      "259/259 [==============================] - 0s 761us/step - loss: 0.4212 - accuracy: 0.7952\n",
      "Epoch 36/100\n",
      "259/259 [==============================] - 0s 853us/step - loss: 0.4201 - accuracy: 0.7985\n",
      "Epoch 37/100\n",
      "259/259 [==============================] - 0s 882us/step - loss: 0.4179 - accuracy: 0.8027\n",
      "Epoch 38/100\n",
      "259/259 [==============================] - 0s 960us/step - loss: 0.4160 - accuracy: 0.8011\n",
      "Epoch 39/100\n",
      "259/259 [==============================] - 0s 834us/step - loss: 0.4165 - accuracy: 0.8030\n",
      "Epoch 40/100\n",
      "259/259 [==============================] - 0s 913us/step - loss: 0.4123 - accuracy: 0.8064\n",
      "Epoch 41/100\n",
      "259/259 [==============================] - 0s 900us/step - loss: 0.4142 - accuracy: 0.8025\n",
      "Epoch 42/100\n",
      "259/259 [==============================] - 0s 914us/step - loss: 0.4114 - accuracy: 0.8065\n",
      "Epoch 43/100\n",
      "259/259 [==============================] - 0s 937us/step - loss: 0.4104 - accuracy: 0.8059\n",
      "Epoch 44/100\n",
      "259/259 [==============================] - 0s 951us/step - loss: 0.4107 - accuracy: 0.8050\n",
      "Epoch 45/100\n",
      "259/259 [==============================] - 0s 1ms/step - loss: 0.4085 - accuracy: 0.8057\n",
      "Epoch 46/100\n",
      "259/259 [==============================] - 0s 814us/step - loss: 0.4063 - accuracy: 0.8073\n",
      "Epoch 47/100\n",
      "259/259 [==============================] - 0s 835us/step - loss: 0.4068 - accuracy: 0.8085\n",
      "Epoch 48/100\n",
      "259/259 [==============================] - 0s 762us/step - loss: 0.4070 - accuracy: 0.8076\n",
      "Epoch 49/100\n",
      "259/259 [==============================] - 0s 864us/step - loss: 0.4041 - accuracy: 0.8116\n",
      "Epoch 50/100\n",
      "259/259 [==============================] - 0s 842us/step - loss: 0.4038 - accuracy: 0.8103\n",
      "Epoch 51/100\n",
      "259/259 [==============================] - 0s 806us/step - loss: 0.4014 - accuracy: 0.8123\n",
      "Epoch 52/100\n",
      "259/259 [==============================] - 0s 864us/step - loss: 0.4021 - accuracy: 0.8105\n",
      "Epoch 53/100\n",
      "259/259 [==============================] - 0s 842us/step - loss: 0.4012 - accuracy: 0.8120\n",
      "Epoch 54/100\n",
      "259/259 [==============================] - 0s 792us/step - loss: 0.3992 - accuracy: 0.8138\n",
      "Epoch 55/100\n",
      "259/259 [==============================] - 0s 717us/step - loss: 0.3982 - accuracy: 0.8160\n",
      "Epoch 56/100\n",
      "259/259 [==============================] - 0s 761us/step - loss: 0.3970 - accuracy: 0.8168\n",
      "Epoch 57/100\n",
      "259/259 [==============================] - 0s 939us/step - loss: 0.3968 - accuracy: 0.8172\n",
      "Epoch 58/100\n",
      "259/259 [==============================] - 0s 907us/step - loss: 0.3956 - accuracy: 0.8177\n",
      "Epoch 59/100\n",
      "259/259 [==============================] - 0s 1ms/step - loss: 0.3970 - accuracy: 0.8182\n",
      "Epoch 60/100\n",
      "259/259 [==============================] - 0s 863us/step - loss: 0.3949 - accuracy: 0.8172\n",
      "Epoch 61/100\n",
      "259/259 [==============================] - 0s 945us/step - loss: 0.3941 - accuracy: 0.8176\n",
      "Epoch 62/100\n",
      "259/259 [==============================] - 0s 818us/step - loss: 0.3923 - accuracy: 0.8222\n",
      "Epoch 63/100\n",
      "259/259 [==============================] - 0s 864us/step - loss: 0.3920 - accuracy: 0.8189\n",
      "Epoch 64/100\n",
      "259/259 [==============================] - 0s 896us/step - loss: 0.3916 - accuracy: 0.8203\n",
      "Epoch 65/100\n",
      "259/259 [==============================] - 0s 890us/step - loss: 0.3913 - accuracy: 0.8178\n",
      "Epoch 66/100\n",
      "259/259 [==============================] - 0s 824us/step - loss: 0.3897 - accuracy: 0.8215\n",
      "Epoch 67/100\n",
      "259/259 [==============================] - 0s 851us/step - loss: 0.3908 - accuracy: 0.8202\n",
      "Epoch 68/100\n",
      "259/259 [==============================] - 0s 743us/step - loss: 0.3898 - accuracy: 0.8230\n",
      "Epoch 69/100\n",
      "259/259 [==============================] - 0s 843us/step - loss: 0.3890 - accuracy: 0.8218\n",
      "Epoch 70/100\n",
      "259/259 [==============================] - 0s 903us/step - loss: 0.3872 - accuracy: 0.8257\n",
      "Epoch 71/100\n",
      "259/259 [==============================] - 0s 835us/step - loss: 0.3879 - accuracy: 0.8231\n",
      "Epoch 72/100\n",
      "259/259 [==============================] - 0s 869us/step - loss: 0.3882 - accuracy: 0.8226\n",
      "Epoch 73/100\n",
      "259/259 [==============================] - 0s 950us/step - loss: 0.3857 - accuracy: 0.8249\n",
      "Epoch 74/100\n",
      "259/259 [==============================] - 0s 807us/step - loss: 0.3854 - accuracy: 0.8264\n",
      "Epoch 75/100\n",
      "259/259 [==============================] - 0s 808us/step - loss: 0.3857 - accuracy: 0.8243\n",
      "Epoch 76/100\n",
      "259/259 [==============================] - 0s 1ms/step - loss: 0.3844 - accuracy: 0.8226\n",
      "Epoch 77/100\n",
      "259/259 [==============================] - 0s 903us/step - loss: 0.3837 - accuracy: 0.8234\n",
      "Epoch 78/100\n",
      "259/259 [==============================] - 0s 845us/step - loss: 0.3842 - accuracy: 0.8264\n",
      "Epoch 79/100\n"
     ]
    },
    {
     "name": "stdout",
     "output_type": "stream",
     "text": [
      "259/259 [==============================] - 0s 783us/step - loss: 0.3820 - accuracy: 0.8292\n",
      "Epoch 80/100\n",
      "259/259 [==============================] - 0s 749us/step - loss: 0.3833 - accuracy: 0.8276\n",
      "Epoch 81/100\n",
      "259/259 [==============================] - 0s 778us/step - loss: 0.3815 - accuracy: 0.8282\n",
      "Epoch 82/100\n",
      "259/259 [==============================] - 0s 941us/step - loss: 0.3812 - accuracy: 0.8282\n",
      "Epoch 83/100\n",
      "259/259 [==============================] - 0s 963us/step - loss: 0.3819 - accuracy: 0.8289\n",
      "Epoch 84/100\n",
      "259/259 [==============================] - 0s 920us/step - loss: 0.3801 - accuracy: 0.8288\n",
      "Epoch 85/100\n",
      "259/259 [==============================] - 0s 791us/step - loss: 0.3790 - accuracy: 0.8287\n",
      "Epoch 86/100\n",
      "259/259 [==============================] - 0s 903us/step - loss: 0.3811 - accuracy: 0.8293\n",
      "Epoch 87/100\n",
      "259/259 [==============================] - 0s 818us/step - loss: 0.3800 - accuracy: 0.8323\n",
      "Epoch 88/100\n",
      "259/259 [==============================] - 0s 939us/step - loss: 0.3788 - accuracy: 0.8278\n",
      "Epoch 89/100\n",
      "259/259 [==============================] - 0s 865us/step - loss: 0.3787 - accuracy: 0.8292\n",
      "Epoch 90/100\n",
      "259/259 [==============================] - 0s 1ms/step - loss: 0.3772 - accuracy: 0.8309\n",
      "Epoch 91/100\n",
      "259/259 [==============================] - 0s 1ms/step - loss: 0.3764 - accuracy: 0.8298\n",
      "Epoch 92/100\n",
      "259/259 [==============================] - 0s 992us/step - loss: 0.3769 - accuracy: 0.8315\n",
      "Epoch 93/100\n",
      "259/259 [==============================] - 0s 1ms/step - loss: 0.3763 - accuracy: 0.8293\n",
      "Epoch 94/100\n",
      "259/259 [==============================] - 0s 902us/step - loss: 0.3763 - accuracy: 0.8305\n",
      "Epoch 95/100\n",
      "259/259 [==============================] - 0s 861us/step - loss: 0.3758 - accuracy: 0.8300\n",
      "Epoch 96/100\n",
      "259/259 [==============================] - 0s 880us/step - loss: 0.3746 - accuracy: 0.8316\n",
      "Epoch 97/100\n",
      "259/259 [==============================] - 0s 936us/step - loss: 0.3739 - accuracy: 0.8285\n",
      "Epoch 98/100\n",
      "259/259 [==============================] - 0s 852us/step - loss: 0.3750 - accuracy: 0.8337\n",
      "Epoch 99/100\n",
      "259/259 [==============================] - 0s 940us/step - loss: 0.3748 - accuracy: 0.8294\n",
      "Epoch 100/100\n",
      "259/259 [==============================] - 0s 738us/step - loss: 0.3731 - accuracy: 0.8317\n",
      "65/65 [==============================] - 0s 605us/step - loss: 0.5050 - accuracy: 0.7773\n",
      "[0.505020797252655, 0.7773475050926208]\n",
      "Classification Report: \n",
      "               precision    recall  f1-score   support\n",
      "\n",
      "           0       0.85      0.68      0.75      1033\n",
      "           1       0.73      0.88      0.80      1033\n",
      "\n",
      "    accuracy                           0.78      2066\n",
      "   macro avg       0.79      0.78      0.78      2066\n",
      "weighted avg       0.79      0.78      0.78      2066\n",
      "\n"
     ]
    }
   ],
   "source": [
    "y_preds = ANN(X_train, y_train, X_test, y_test)"
   ]
  },
  {
   "cell_type": "markdown",
   "id": "7a7f9e54",
   "metadata": {},
   "source": [
    "# SMOTE - synthetic minority oversampling technique"
   ]
  },
  {
   "cell_type": "code",
   "execution_count": 53,
   "id": "302b6ab0",
   "metadata": {},
   "outputs": [],
   "source": [
    "from imblearn.over_sampling import SMOTE"
   ]
  },
  {
   "cell_type": "code",
   "execution_count": 54,
   "id": "75cc8859",
   "metadata": {},
   "outputs": [],
   "source": [
    "smote=SMOTE(sampling_strategy=\"minority\")\n",
    "x_sm,y_sm=smote.fit_sample(X,y)"
   ]
  },
  {
   "cell_type": "code",
   "execution_count": 55,
   "id": "5737ad94",
   "metadata": {},
   "outputs": [
    {
     "data": {
      "text/plain": [
       "1    5163\n",
       "0    5163\n",
       "Name: Churn, dtype: int64"
      ]
     },
     "execution_count": 55,
     "metadata": {},
     "output_type": "execute_result"
    }
   ],
   "source": [
    "y_sm.value_counts()"
   ]
  },
  {
   "cell_type": "code",
   "execution_count": 56,
   "id": "1f8313cd",
   "metadata": {},
   "outputs": [],
   "source": [
    "X_train,X_test,y_train,y_test=train_test_split(x_sm,y_sm,test_size=0.2,random_state=1,stratify=y_sm)"
   ]
  },
  {
   "cell_type": "code",
   "execution_count": 57,
   "id": "84ca81ec",
   "metadata": {},
   "outputs": [
    {
     "data": {
      "text/plain": [
       "0    4130\n",
       "1    4130\n",
       "Name: Churn, dtype: int64"
      ]
     },
     "execution_count": 57,
     "metadata": {},
     "output_type": "execute_result"
    }
   ],
   "source": [
    "y_train.value_counts()"
   ]
  },
  {
   "cell_type": "code",
   "execution_count": 58,
   "id": "33abd726",
   "metadata": {},
   "outputs": [
    {
     "name": "stdout",
     "output_type": "stream",
     "text": [
      "Epoch 1/100\n",
      "259/259 [==============================] - 0s 877us/step - loss: 0.5552 - accuracy: 0.7238\n",
      "Epoch 2/100\n",
      "259/259 [==============================] - 0s 847us/step - loss: 0.4940 - accuracy: 0.7585\n",
      "Epoch 3/100\n",
      "259/259 [==============================] - 0s 876us/step - loss: 0.4846 - accuracy: 0.7653\n",
      "Epoch 4/100\n",
      "259/259 [==============================] - 0s 867us/step - loss: 0.4803 - accuracy: 0.7676\n",
      "Epoch 5/100\n",
      "259/259 [==============================] - 0s 872us/step - loss: 0.4765 - accuracy: 0.7692\n",
      "Epoch 6/100\n",
      "259/259 [==============================] - 0s 770us/step - loss: 0.4737 - accuracy: 0.7714\n",
      "Epoch 7/100\n",
      "259/259 [==============================] - 0s 721us/step - loss: 0.4718 - accuracy: 0.7719\n",
      "Epoch 8/100\n",
      "259/259 [==============================] - 0s 904us/step - loss: 0.4690 - accuracy: 0.7736\n",
      "Epoch 9/100\n",
      "259/259 [==============================] - 0s 799us/step - loss: 0.4670 - accuracy: 0.7718\n",
      "Epoch 10/100\n",
      "259/259 [==============================] - 0s 843us/step - loss: 0.4655 - accuracy: 0.7745\n",
      "Epoch 11/100\n",
      "259/259 [==============================] - 0s 861us/step - loss: 0.4614 - accuracy: 0.7751\n",
      "Epoch 12/100\n",
      "259/259 [==============================] - 0s 879us/step - loss: 0.4590 - accuracy: 0.7782\n",
      "Epoch 13/100\n",
      "259/259 [==============================] - 0s 854us/step - loss: 0.4572 - accuracy: 0.7777\n",
      "Epoch 14/100\n",
      "259/259 [==============================] - 0s 840us/step - loss: 0.4555 - accuracy: 0.7803\n",
      "Epoch 15/100\n",
      "259/259 [==============================] - 0s 807us/step - loss: 0.4538 - accuracy: 0.7834\n",
      "Epoch 16/100\n",
      "259/259 [==============================] - 0s 851us/step - loss: 0.4523 - accuracy: 0.7804\n",
      "Epoch 17/100\n",
      "259/259 [==============================] - 0s 792us/step - loss: 0.4498 - accuracy: 0.7858\n",
      "Epoch 18/100\n",
      "259/259 [==============================] - 0s 831us/step - loss: 0.4481 - accuracy: 0.7829\n",
      "Epoch 19/100\n",
      "259/259 [==============================] - 0s 797us/step - loss: 0.4476 - accuracy: 0.7852\n",
      "Epoch 20/100\n",
      "259/259 [==============================] - 0s 835us/step - loss: 0.4463 - accuracy: 0.7864\n",
      "Epoch 21/100\n",
      "259/259 [==============================] - 0s 815us/step - loss: 0.4448 - accuracy: 0.7874\n",
      "Epoch 22/100\n",
      "259/259 [==============================] - 0s 731us/step - loss: 0.4432 - accuracy: 0.7881\n",
      "Epoch 23/100\n",
      "259/259 [==============================] - 0s 851us/step - loss: 0.4420 - accuracy: 0.7860\n",
      "Epoch 24/100\n",
      "259/259 [==============================] - 0s 970us/step - loss: 0.4404 - accuracy: 0.7907\n",
      "Epoch 25/100\n",
      "259/259 [==============================] - 0s 848us/step - loss: 0.4394 - accuracy: 0.7887\n",
      "Epoch 26/100\n",
      "259/259 [==============================] - 0s 830us/step - loss: 0.4382 - accuracy: 0.7870\n",
      "Epoch 27/100\n",
      "259/259 [==============================] - 0s 1ms/step - loss: 0.4363 - accuracy: 0.7883\n",
      "Epoch 28/100\n",
      "259/259 [==============================] - 0s 824us/step - loss: 0.4350 - accuracy: 0.7913\n",
      "Epoch 29/100\n",
      "259/259 [==============================] - 0s 945us/step - loss: 0.4349 - accuracy: 0.7897\n",
      "Epoch 30/100\n",
      "259/259 [==============================] - 0s 882us/step - loss: 0.4325 - accuracy: 0.7946\n",
      "Epoch 31/100\n",
      "259/259 [==============================] - 0s 1ms/step - loss: 0.4311 - accuracy: 0.7921\n",
      "Epoch 32/100\n",
      "259/259 [==============================] - 0s 865us/step - loss: 0.4302 - accuracy: 0.7943\n",
      "Epoch 33/100\n",
      "259/259 [==============================] - 0s 996us/step - loss: 0.4300 - accuracy: 0.7909\n",
      "Epoch 34/100\n",
      "259/259 [==============================] - 0s 778us/step - loss: 0.4283 - accuracy: 0.7952\n",
      "Epoch 35/100\n",
      "259/259 [==============================] - 0s 813us/step - loss: 0.4286 - accuracy: 0.7969\n",
      "Epoch 36/100\n",
      "259/259 [==============================] - 0s 746us/step - loss: 0.4258 - accuracy: 0.7959\n",
      "Epoch 37/100\n",
      "259/259 [==============================] - 0s 883us/step - loss: 0.4253 - accuracy: 0.7976\n",
      "Epoch 38/100\n",
      "259/259 [==============================] - 0s 947us/step - loss: 0.4235 - accuracy: 0.7982\n",
      "Epoch 39/100\n",
      "259/259 [==============================] - 0s 836us/step - loss: 0.4229 - accuracy: 0.8038\n",
      "Epoch 40/100\n",
      "259/259 [==============================] - 0s 820us/step - loss: 0.4202 - accuracy: 0.8040\n",
      "Epoch 41/100\n",
      "259/259 [==============================] - 0s 843us/step - loss: 0.4196 - accuracy: 0.7983\n",
      "Epoch 42/100\n",
      "259/259 [==============================] - 0s 830us/step - loss: 0.4185 - accuracy: 0.8019\n",
      "Epoch 43/100\n",
      "259/259 [==============================] - 0s 871us/step - loss: 0.4179 - accuracy: 0.8004\n",
      "Epoch 44/100\n",
      "259/259 [==============================] - 0s 852us/step - loss: 0.4164 - accuracy: 0.8039\n",
      "Epoch 45/100\n",
      "259/259 [==============================] - 0s 752us/step - loss: 0.4162 - accuracy: 0.8077\n",
      "Epoch 46/100\n",
      "259/259 [==============================] - 0s 857us/step - loss: 0.4140 - accuracy: 0.8030\n",
      "Epoch 47/100\n",
      "259/259 [==============================] - 0s 872us/step - loss: 0.4142 - accuracy: 0.8034\n",
      "Epoch 48/100\n",
      "259/259 [==============================] - 0s 834us/step - loss: 0.4126 - accuracy: 0.8046\n",
      "Epoch 49/100\n",
      "259/259 [==============================] - 0s 863us/step - loss: 0.4114 - accuracy: 0.8069\n",
      "Epoch 50/100\n",
      "259/259 [==============================] - 0s 845us/step - loss: 0.4097 - accuracy: 0.8082\n",
      "Epoch 51/100\n",
      "259/259 [==============================] - 0s 965us/step - loss: 0.4080 - accuracy: 0.8093\n",
      "Epoch 52/100\n",
      "259/259 [==============================] - 0s 908us/step - loss: 0.4073 - accuracy: 0.8134\n",
      "Epoch 53/100\n",
      "259/259 [==============================] - 0s 820us/step - loss: 0.4071 - accuracy: 0.8093\n",
      "Epoch 54/100\n",
      "259/259 [==============================] - 0s 823us/step - loss: 0.4057 - accuracy: 0.8093\n",
      "Epoch 55/100\n",
      "259/259 [==============================] - 0s 861us/step - loss: 0.4058 - accuracy: 0.8130\n",
      "Epoch 56/100\n",
      "259/259 [==============================] - 0s 1ms/step - loss: 0.4052 - accuracy: 0.8119\n",
      "Epoch 57/100\n",
      "259/259 [==============================] - 0s 1ms/step - loss: 0.4043 - accuracy: 0.8102\n",
      "Epoch 58/100\n",
      "259/259 [==============================] - 0s 1ms/step - loss: 0.4024 - accuracy: 0.8137\n",
      "Epoch 59/100\n",
      "259/259 [==============================] - 0s 955us/step - loss: 0.4026 - accuracy: 0.8107\n",
      "Epoch 60/100\n",
      "259/259 [==============================] - 0s 856us/step - loss: 0.4008 - accuracy: 0.8116\n",
      "Epoch 61/100\n",
      "259/259 [==============================] - 0s 911us/step - loss: 0.4000 - accuracy: 0.8138\n",
      "Epoch 62/100\n",
      "259/259 [==============================] - 0s 818us/step - loss: 0.3992 - accuracy: 0.8115\n",
      "Epoch 63/100\n",
      "259/259 [==============================] - 0s 926us/step - loss: 0.3992 - accuracy: 0.8145\n",
      "Epoch 64/100\n",
      "259/259 [==============================] - 0s 736us/step - loss: 0.3984 - accuracy: 0.8102\n",
      "Epoch 65/100\n",
      "259/259 [==============================] - 0s 865us/step - loss: 0.3989 - accuracy: 0.8151\n",
      "Epoch 66/100\n",
      "259/259 [==============================] - 0s 810us/step - loss: 0.3969 - accuracy: 0.8154\n",
      "Epoch 67/100\n",
      "259/259 [==============================] - 0s 964us/step - loss: 0.3959 - accuracy: 0.8168\n",
      "Epoch 68/100\n",
      "259/259 [==============================] - 0s 851us/step - loss: 0.3969 - accuracy: 0.8130\n",
      "Epoch 69/100\n",
      "259/259 [==============================] - 0s 1ms/step - loss: 0.3953 - accuracy: 0.8166\n",
      "Epoch 70/100\n",
      "259/259 [==============================] - 0s 813us/step - loss: 0.3940 - accuracy: 0.8192\n",
      "Epoch 71/100\n",
      "259/259 [==============================] - 0s 815us/step - loss: 0.3951 - accuracy: 0.8169\n",
      "Epoch 72/100\n",
      "259/259 [==============================] - 0s 808us/step - loss: 0.3922 - accuracy: 0.8192\n",
      "Epoch 73/100\n",
      "259/259 [==============================] - 0s 767us/step - loss: 0.3933 - accuracy: 0.8174\n",
      "Epoch 74/100\n",
      "259/259 [==============================] - 0s 935us/step - loss: 0.3926 - accuracy: 0.8199\n",
      "Epoch 75/100\n",
      "259/259 [==============================] - 0s 897us/step - loss: 0.3909 - accuracy: 0.8206\n",
      "Epoch 76/100\n",
      "259/259 [==============================] - 0s 1ms/step - loss: 0.3902 - accuracy: 0.8201\n",
      "Epoch 77/100\n",
      "259/259 [==============================] - 0s 930us/step - loss: 0.3892 - accuracy: 0.8192\n",
      "Epoch 78/100\n",
      "259/259 [==============================] - 0s 846us/step - loss: 0.3898 - accuracy: 0.8224\n",
      "Epoch 79/100\n",
      "259/259 [==============================] - 0s 903us/step - loss: 0.3900 - accuracy: 0.8203\n"
     ]
    },
    {
     "name": "stdout",
     "output_type": "stream",
     "text": [
      "Epoch 80/100\n",
      "259/259 [==============================] - 0s 847us/step - loss: 0.3884 - accuracy: 0.8212\n",
      "Epoch 81/100\n",
      "259/259 [==============================] - 0s 781us/step - loss: 0.3878 - accuracy: 0.8228\n",
      "Epoch 82/100\n",
      "259/259 [==============================] - 0s 772us/step - loss: 0.3884 - accuracy: 0.8180\n",
      "Epoch 83/100\n",
      "259/259 [==============================] - 0s 785us/step - loss: 0.3864 - accuracy: 0.8238\n",
      "Epoch 84/100\n",
      "259/259 [==============================] - 0s 732us/step - loss: 0.3864 - accuracy: 0.8228\n",
      "Epoch 85/100\n",
      "259/259 [==============================] - 0s 877us/step - loss: 0.3857 - accuracy: 0.8215\n",
      "Epoch 86/100\n",
      "259/259 [==============================] - 0s 860us/step - loss: 0.3868 - accuracy: 0.8251\n",
      "Epoch 87/100\n",
      "259/259 [==============================] - 0s 799us/step - loss: 0.3848 - accuracy: 0.8232\n",
      "Epoch 88/100\n",
      "259/259 [==============================] - 0s 811us/step - loss: 0.3852 - accuracy: 0.8223\n",
      "Epoch 89/100\n",
      "259/259 [==============================] - 0s 1ms/step - loss: 0.3827 - accuracy: 0.8248\n",
      "Epoch 90/100\n",
      "259/259 [==============================] - 0s 900us/step - loss: 0.3834 - accuracy: 0.8242\n",
      "Epoch 91/100\n",
      "259/259 [==============================] - 0s 933us/step - loss: 0.3813 - accuracy: 0.8245\n",
      "Epoch 92/100\n",
      "259/259 [==============================] - 0s 798us/step - loss: 0.3808 - accuracy: 0.8262\n",
      "Epoch 93/100\n",
      "259/259 [==============================] - 0s 711us/step - loss: 0.3835 - accuracy: 0.8259\n",
      "Epoch 94/100\n",
      "259/259 [==============================] - 0s 818us/step - loss: 0.3816 - accuracy: 0.8242\n",
      "Epoch 95/100\n",
      "259/259 [==============================] - 0s 779us/step - loss: 0.3831 - accuracy: 0.8235\n",
      "Epoch 96/100\n",
      "259/259 [==============================] - 0s 797us/step - loss: 0.3792 - accuracy: 0.8283\n",
      "Epoch 97/100\n",
      "259/259 [==============================] - 0s 782us/step - loss: 0.3816 - accuracy: 0.8259\n",
      "Epoch 98/100\n",
      "259/259 [==============================] - 0s 711us/step - loss: 0.3794 - accuracy: 0.8249\n",
      "Epoch 99/100\n",
      "259/259 [==============================] - 0s 817us/step - loss: 0.3803 - accuracy: 0.8291\n",
      "Epoch 100/100\n",
      "259/259 [==============================] - 0s 847us/step - loss: 0.3789 - accuracy: 0.8270\n",
      "65/65 [==============================] - 0s 586us/step - loss: 0.4799 - accuracy: 0.7759\n",
      "[0.4798697233200073, 0.7758954763412476]\n",
      "Classification Report: \n",
      "               precision    recall  f1-score   support\n",
      "\n",
      "           0       0.79      0.76      0.77      1033\n",
      "           1       0.76      0.80      0.78      1033\n",
      "\n",
      "    accuracy                           0.78      2066\n",
      "   macro avg       0.78      0.78      0.78      2066\n",
      "weighted avg       0.78      0.78      0.78      2066\n",
      "\n"
     ]
    }
   ],
   "source": [
    "y_preds = ANN(X_train, y_train, X_test, y_test)"
   ]
  },
  {
   "cell_type": "code",
   "execution_count": 59,
   "id": "cce8d2f2",
   "metadata": {},
   "outputs": [
    {
     "data": {
      "text/plain": [
       "array([[780, 253],\n",
       "       [210, 823]], dtype=int64)"
      ]
     },
     "execution_count": 59,
     "metadata": {},
     "output_type": "execute_result"
    }
   ],
   "source": [
    "confusion_matrix(y_test,y_preds)"
   ]
  },
  {
   "cell_type": "code",
   "execution_count": null,
   "id": "3224a69e",
   "metadata": {},
   "outputs": [],
   "source": []
  },
  {
   "cell_type": "code",
   "execution_count": null,
   "id": "94b87038",
   "metadata": {},
   "outputs": [],
   "source": []
  },
  {
   "cell_type": "code",
   "execution_count": null,
   "id": "c7c6d7d9",
   "metadata": {},
   "outputs": [],
   "source": []
  },
  {
   "cell_type": "code",
   "execution_count": null,
   "id": "6dc0d57a",
   "metadata": {},
   "outputs": [],
   "source": []
  },
  {
   "cell_type": "code",
   "execution_count": null,
   "id": "5e0507f1",
   "metadata": {},
   "outputs": [],
   "source": []
  },
  {
   "cell_type": "code",
   "execution_count": null,
   "id": "ea29e026",
   "metadata": {},
   "outputs": [],
   "source": []
  }
 ],
 "metadata": {
  "kernelspec": {
   "display_name": "Python 3 (ipykernel)",
   "language": "python",
   "name": "python3"
  },
  "language_info": {
   "codemirror_mode": {
    "name": "ipython",
    "version": 3
   },
   "file_extension": ".py",
   "mimetype": "text/x-python",
   "name": "python",
   "nbconvert_exporter": "python",
   "pygments_lexer": "ipython3",
   "version": "3.8.12"
  }
 },
 "nbformat": 4,
 "nbformat_minor": 5
}
